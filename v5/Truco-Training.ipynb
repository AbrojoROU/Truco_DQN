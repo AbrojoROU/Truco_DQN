{
 "cells": [
  {
   "cell_type": "code",
   "execution_count": 9,
   "metadata": {},
   "outputs": [],
   "source": [
    "from Truco_Core import *\n",
    "from Truco_Value_Network import *"
   ]
  },
  {
   "cell_type": "markdown",
   "metadata": {},
   "source": [
    "Para entrenar agentes tenemos un metodo gestiona la secuencia completa por nosotros, o podemos llamar manualmente a los distintos metodos de forma individual. El modo manual es util cuando queremos hacer experimentos como combinar generaciones, etc. \n",
    "El metodo automatico es muy bueno para hacer batches extendidos de generaciones\n",
    "\n",
    "<b>ADVERTENCIA:</b> Los pickles de partidas de entrenamiento y los modelos de los agentes (archivos h5) se van a guardar en una subcarpeta con nombre <b>\"value_pickles\"</b>. Crear la carpeta antes de correr el codigo.\n",
    "\n",
    "Al final de cada generacion correra una prueba acida del agente a ver como responde frente a una juada algo elemental\n",
    "Recordar que el val_mae es el error de estimacion de truco."
   ]
  },
  {
   "cell_type": "markdown",
   "metadata": {},
   "source": [
    "########################################\n",
    "\n",
    "<font size=\"+1\"><b>Versión Automática de Entrenamiento</b></font>"
   ]
  },
  {
   "cell_type": "code",
   "execution_count": 7,
   "metadata": {},
   "outputs": [
    {
     "name": "stdout",
     "output_type": "stream",
     "text": [
      "   #debug@ COMIENZO!   ## ValueNetworkTrainer()   ## T=1261.08s\n",
      "\n",
      "\n",
      "##########################\n",
      "##     GENERACION 1     ##\n",
      "##########################\n",
      "\n",
      "  ##   Generate_and_Save   ##\n",
      "\n",
      "1. Generando Partidas de entrenamiento\n",
      "Generando Partidas.. ( batch_size=10000 )\n",
      "\n",
      "\n",
      "2. Generando Partidas de test\n",
      "Generando Partidas.. ( batch_size=4000 )\n",
      "\n",
      "len p1_traindata: 54484, len p1_testdata: 21704\n",
      "len p1_trainlabels: 54484, len p1_testlabels: 21704\n",
      "len p2_traindata: 53887, len p2_testdata: 21424\n",
      "len p2_trainlabels: 53887, len p2_testlabels: 21424\n",
      "\n",
      "3. Guardando partidas en Disco (pickle) con prefijo:value_pickles\\gen1_...\n",
      "  ...guardado!\n",
      "\n",
      "  ##   Train_Save   ##\n",
      "\n",
      "  ## Carga de partidas de entrenamiento P1 desde Disco (pickles) con prefijo 'value_pickles\\gen1_'\n",
      "\n",
      "  ## Entrenando Red para P1ayer 1\n",
      "Train on 54484 samples, validate on 21704 samples\n",
      "Epoch 1/70\n",
      " - 2s - loss: 32.0431 - mean_absolute_error: 4.1456 - val_loss: 29.4069 - val_mean_absolute_error: 4.0014\n",
      "Epoch 2/70\n",
      " - 1s - loss: 24.9909 - mean_absolute_error: 3.7148 - val_loss: 24.4196 - val_mean_absolute_error: 3.6837\n",
      "Epoch 3/70\n",
      " - 2s - loss: 22.5050 - mean_absolute_error: 3.5317 - val_loss: 23.5818 - val_mean_absolute_error: 3.6027\n",
      "Epoch 4/70\n",
      " - 1s - loss: 21.3554 - mean_absolute_error: 3.4281 - val_loss: 23.4157 - val_mean_absolute_error: 3.6126\n",
      "Epoch 5/70\n",
      " - 1s - loss: 20.3532 - mean_absolute_error: 3.3346 - val_loss: 22.8107 - val_mean_absolute_error: 3.5623\n",
      "Epoch 6/70\n",
      " - 1s - loss: 19.0985 - mean_absolute_error: 3.2117 - val_loss: 23.0857 - val_mean_absolute_error: 3.5568\n",
      "Epoch 7/70\n",
      " - 1s - loss: 18.3101 - mean_absolute_error: 3.1317 - val_loss: 22.0918 - val_mean_absolute_error: 3.4720\n",
      "Epoch 8/70\n",
      " - 1s - loss: 17.3366 - mean_absolute_error: 3.0310 - val_loss: 21.8926 - val_mean_absolute_error: 3.4364\n",
      "Epoch 9/70\n",
      " - 1s - loss: 16.4631 - mean_absolute_error: 2.9394 - val_loss: 21.2335 - val_mean_absolute_error: 3.4041\n",
      "Epoch 10/70\n",
      " - 1s - loss: 15.8235 - mean_absolute_error: 2.8688 - val_loss: 20.7126 - val_mean_absolute_error: 3.3363\n",
      "Epoch 11/70\n",
      " - 1s - loss: 15.0506 - mean_absolute_error: 2.7807 - val_loss: 20.3371 - val_mean_absolute_error: 3.3080\n",
      "Epoch 12/70\n",
      " - 1s - loss: 14.5156 - mean_absolute_error: 2.7159 - val_loss: 19.1436 - val_mean_absolute_error: 3.2016\n",
      "Epoch 13/70\n",
      " - 1s - loss: 14.1381 - mean_absolute_error: 2.6663 - val_loss: 18.8492 - val_mean_absolute_error: 3.1610\n",
      "Epoch 14/70\n",
      " - 1s - loss: 13.6928 - mean_absolute_error: 2.6058 - val_loss: 19.4808 - val_mean_absolute_error: 3.2205\n",
      "Epoch 15/70\n",
      " - 1s - loss: 13.3149 - mean_absolute_error: 2.5606 - val_loss: 18.9717 - val_mean_absolute_error: 3.1481\n",
      "Epoch 16/70\n",
      " - 1s - loss: 13.0806 - mean_absolute_error: 2.5271 - val_loss: 18.6991 - val_mean_absolute_error: 3.1284\n",
      "Epoch 17/70\n",
      " - 1s - loss: 12.8080 - mean_absolute_error: 2.4909 - val_loss: 18.0004 - val_mean_absolute_error: 3.1122\n",
      "Epoch 18/70\n",
      " - 1s - loss: 12.6093 - mean_absolute_error: 2.4606 - val_loss: 18.0776 - val_mean_absolute_error: 3.0947\n",
      "Epoch 19/70\n",
      " - 1s - loss: 12.3647 - mean_absolute_error: 2.4239 - val_loss: 17.9393 - val_mean_absolute_error: 3.0778\n",
      "Epoch 20/70\n",
      " - 1s - loss: 12.1512 - mean_absolute_error: 2.3891 - val_loss: 17.8205 - val_mean_absolute_error: 3.0629\n",
      "Epoch 21/70\n",
      " - 1s - loss: 12.0882 - mean_absolute_error: 2.3873 - val_loss: 18.6816 - val_mean_absolute_error: 3.1466\n",
      "Epoch 22/70\n",
      " - 1s - loss: 11.8197 - mean_absolute_error: 2.3441 - val_loss: 18.3582 - val_mean_absolute_error: 3.1155\n",
      "Epoch 23/70\n",
      " - 1s - loss: 11.7259 - mean_absolute_error: 2.3326 - val_loss: 18.1872 - val_mean_absolute_error: 3.0814\n",
      "Epoch 24/70\n",
      " - 1s - loss: 11.5479 - mean_absolute_error: 2.3032 - val_loss: 17.8593 - val_mean_absolute_error: 3.0520\n",
      "Epoch 25/70\n",
      " - 1s - loss: 11.4416 - mean_absolute_error: 2.2892 - val_loss: 18.1134 - val_mean_absolute_error: 3.0651\n",
      "Epoch 26/70\n",
      " - 1s - loss: 11.3551 - mean_absolute_error: 2.2738 - val_loss: 17.8760 - val_mean_absolute_error: 3.0624\n",
      "Train: 2.230, Test: 3.062\n"
     ]
    },
    {
     "data": {
      "image/png": "[encoded data removed]",
      "text/plain": [
       "<Figure size 432x288 with 1 Axes>"
      ]
     },
     "metadata": {
      "needs_background": "light"
     },
     "output_type": "display_data"
    },
    {
     "name": "stdout",
     "output_type": "stream",
     "text": [
      "\n",
      "    ...value_pickles\\gen1_p1_DVN.h5 guardado!\n",
      "## Carga de partidas de entrenamiento P2 desde Disco (pickles) con prefijo 'value_pickles\\gen1_'\n",
      "\n",
      "## Entrenando Red para P1ayer 2\n",
      "Train on 53887 samples, validate on 21424 samples\n",
      "Epoch 1/70\n",
      " - 2s - loss: 30.9927 - mean_absolute_error: 4.0374 - val_loss: 28.0117 - val_mean_absolute_error: 3.9504\n",
      "Epoch 2/70\n",
      " - 1s - loss: 25.3668 - mean_absolute_error: 3.6969 - val_loss: 24.8092 - val_mean_absolute_error: 3.6583\n",
      "Epoch 3/70\n",
      " - 1s - loss: 19.8060 - mean_absolute_error: 3.2382 - val_loss: 19.5251 - val_mean_absolute_error: 3.1887\n",
      "Epoch 4/70\n",
      " - 1s - loss: 15.9721 - mean_absolute_error: 2.8735 - val_loss: 17.2545 - val_mean_absolute_error: 3.0252\n",
      "Epoch 5/70\n",
      " - 1s - loss: 14.7103 - mean_absolute_error: 2.7387 - val_loss: 16.0515 - val_mean_absolute_error: 2.9075\n",
      "Epoch 6/70\n",
      " - 1s - loss: 13.8162 - mean_absolute_error: 2.6421 - val_loss: 15.7993 - val_mean_absolute_error: 2.8755\n",
      "Epoch 7/70\n",
      " - 1s - loss: 13.2266 - mean_absolute_error: 2.5721 - val_loss: 16.1861 - val_mean_absolute_error: 2.9133\n",
      "Epoch 8/70\n",
      " - 1s - loss: 12.6286 - mean_absolute_error: 2.5009 - val_loss: 15.6844 - val_mean_absolute_error: 2.8425\n",
      "Epoch 9/70\n",
      " - 1s - loss: 12.1492 - mean_absolute_error: 2.4470 - val_loss: 14.9886 - val_mean_absolute_error: 2.7905\n",
      "Epoch 10/70\n",
      " - 1s - loss: 11.5329 - mean_absolute_error: 2.3630 - val_loss: 15.3651 - val_mean_absolute_error: 2.8303\n",
      "Epoch 11/70\n",
      " - 1s - loss: 11.3107 - mean_absolute_error: 2.3376 - val_loss: 14.9182 - val_mean_absolute_error: 2.8028\n",
      "Epoch 12/70\n",
      " - 1s - loss: 10.9504 - mean_absolute_error: 2.2868 - val_loss: 14.4389 - val_mean_absolute_error: 2.7310\n",
      "Epoch 13/70\n",
      " - 1s - loss: 10.6100 - mean_absolute_error: 2.2371 - val_loss: 14.6614 - val_mean_absolute_error: 2.7313\n",
      "Epoch 14/70\n",
      " - 1s - loss: 10.2531 - mean_absolute_error: 2.1802 - val_loss: 14.5675 - val_mean_absolute_error: 2.7427\n",
      "Epoch 15/70\n",
      " - 1s - loss: 10.1418 - mean_absolute_error: 2.1643 - val_loss: 14.6388 - val_mean_absolute_error: 2.7516\n",
      "Epoch 16/70\n",
      " - 1s - loss: 9.9305 - mean_absolute_error: 2.1296 - val_loss: 14.5880 - val_mean_absolute_error: 2.7395\n",
      "Epoch 17/70\n",
      " - 1s - loss: 9.6227 - mean_absolute_error: 2.0855 - val_loss: 14.3618 - val_mean_absolute_error: 2.7421\n",
      "Epoch 18/70\n",
      " - 1s - loss: 9.5071 - mean_absolute_error: 2.0687 - val_loss: 14.8318 - val_mean_absolute_error: 2.7587\n",
      "Epoch 19/70\n",
      " - 1s - loss: 9.3424 - mean_absolute_error: 2.0411 - val_loss: 14.7220 - val_mean_absolute_error: 2.7484\n",
      "Epoch 20/70\n",
      " - 1s - loss: 9.1361 - mean_absolute_error: 2.0054 - val_loss: 14.9499 - val_mean_absolute_error: 2.7864\n",
      "Epoch 21/70\n",
      " - 1s - loss: 9.0828 - mean_absolute_error: 1.9983 - val_loss: 14.6333 - val_mean_absolute_error: 2.7357\n",
      "Epoch 22/70\n",
      " - 1s - loss: 8.8856 - mean_absolute_error: 1.9641 - val_loss: 14.5395 - val_mean_absolute_error: 2.7562\n",
      "Epoch 23/70\n",
      " - 1s - loss: 8.7644 - mean_absolute_error: 1.9458 - val_loss: 14.9397 - val_mean_absolute_error: 2.7598\n",
      "Train: 1.879, Test: 2.760\n"
     ]
    },
    {
     "data": {
      "image/png": "[encoded data removed]",
      "text/plain": [
       "<Figure size 432x288 with 1 Axes>"
      ]
     },
     "metadata": {
      "needs_background": "light"
     },
     "output_type": "display_data"
    },
    {
     "name": "stdout",
     "output_type": "stream",
     "text": [
      "\n",
      "    ...value_pickles\\gen1_p2_DVN.h5 guardado!\n",
      "  ##   Load_and_Test   ##\n",
      "\n",
      "  ## Carga de partidas de Test desde Disco (pickles) con prefijo: value_pickles\\gen1_\n",
      "\n",
      "## Loading model from disk\n",
      "###########################\n",
      "##   Partida de Prueba   ##\n",
      "###########################\n",
      "\n",
      "1) p1 juega c1, acciones de p2 disponibles\n",
      "[<Accion.ENVIDO: 7>, <Accion.REALENVIDO: 8>, <Accion.FALTAENVIDO: 9>, <Accion.GRITAR: 5>, <Accion.JUGAR_C1: 1>, <Accion.JUGAR_C2: 2>, <Accion.JUGAR_C3: 3>]\n",
      "\n",
      "Le toca a p2\n",
      " cartas en mesa: [1-Espada]\n",
      " cartas totales: [1-Basto, 2-Oro, 4-Basto]\n",
      " cartas restates: [1-Basto, 2-Oro, 4-Basto]\n",
      "\n",
      "p2> accion posible: ENVIDO,  valor:[[-1.337082]]\n",
      "p2> accion posible: REALENVIDO,  valor:[[-1.4725965]]\n",
      "p2> accion posible: FALTAENVIDO,  valor:[[-2.7102995]]\n",
      "p2> accion posible: GRITAR,  valor:[[-1.2158544]]\n",
      "p2> accion posible: JUGAR_C1,  valor:[[-1.3528372]]\n",
      "p2> accion posible: JUGAR_C2,  valor:[[-0.33977377]]\n",
      "p2> accion posible: JUGAR_C3,  valor:[[-1.3009192]]\n",
      "\n",
      "##########################\n",
      "##     GENERACION 2     ##\n",
      "##########################\n",
      "\n",
      "  ##   Generate_and_Save   ##\n",
      "\n",
      "1. Generando Partidas de entrenamiento\n",
      "Generando Partidas.. ( batch_size=10000 )\n",
      "\n",
      "\n",
      "2. Generando Partidas de test\n",
      "Generando Partidas.. ( batch_size=4000 )\n",
      "\n",
      "len p1_traindata: 45948, len p1_testdata: 18423\n",
      "len p1_trainlabels: 45948, len p1_testlabels: 18423\n",
      "len p2_traindata: 44675, len p2_testdata: 17866\n",
      "len p2_trainlabels: 44675, len p2_testlabels: 17866\n",
      "\n",
      "3. Guardando partidas en Disco (pickle) con prefijo:value_pickles\\gen2_...\n",
      "  ...guardado!\n",
      "\n",
      "  ##   Train_Save   ##\n",
      "\n",
      "  ## Carga de partidas de entrenamiento P1 desde Disco (pickles) con prefijo 'value_pickles\\gen2_'\n",
      "\n",
      "  ## Entrenando Red para P1ayer 1\n",
      "Train on 100432 samples, validate on 18423 samples\n",
      "Epoch 1/70\n",
      " - 4s - loss: 27.7440 - mean_absolute_error: 3.8333 - val_loss: 20.5575 - val_mean_absolute_error: 3.2690\n",
      "Epoch 2/70\n",
      " - 2s - loss: 21.7944 - mean_absolute_error: 3.4408 - val_loss: 18.7004 - val_mean_absolute_error: 3.1499\n",
      "Epoch 3/70\n",
      " - 2s - loss: 19.7330 - mean_absolute_error: 3.2724 - val_loss: 17.1722 - val_mean_absolute_error: 3.0348\n",
      "Epoch 4/70\n",
      " - 2s - loss: 17.7958 - mean_absolute_error: 3.1008 - val_loss: 15.8992 - val_mean_absolute_error: 2.9127\n",
      "Epoch 5/70\n",
      " - 2s - loss: 16.3858 - mean_absolute_error: 2.9682 - val_loss: 15.5941 - val_mean_absolute_error: 2.9016\n",
      "Epoch 6/70\n",
      " - 2s - loss: 15.5092 - mean_absolute_error: 2.8774 - val_loss: 15.5349 - val_mean_absolute_error: 2.9099\n",
      "Epoch 7/70\n",
      " - 2s - loss: 14.8839 - mean_absolute_error: 2.8084 - val_loss: 18.5514 - val_mean_absolute_error: 3.2195\n",
      "Epoch 8/70\n",
      " - 2s - loss: 14.3971 - mean_absolute_error: 2.7543 - val_loss: 14.1857 - val_mean_absolute_error: 2.7575\n",
      "Epoch 9/70\n",
      " - 2s - loss: 13.9429 - mean_absolute_error: 2.7027 - val_loss: 13.7803 - val_mean_absolute_error: 2.7049\n",
      "Epoch 10/70\n",
      " - 2s - loss: 13.6743 - mean_absolute_error: 2.6706 - val_loss: 13.9023 - val_mean_absolute_error: 2.7225\n",
      "Epoch 11/70\n",
      " - 2s - loss: 13.3783 - mean_absolute_error: 2.6311 - val_loss: 13.0412 - val_mean_absolute_error: 2.6485\n",
      "Epoch 12/70\n",
      " - 2s - loss: 13.1812 - mean_absolute_error: 2.6079 - val_loss: 13.8771 - val_mean_absolute_error: 2.7494\n",
      "Epoch 13/70\n",
      " - 2s - loss: 12.9759 - mean_absolute_error: 2.5823 - val_loss: 13.9168 - val_mean_absolute_error: 2.7275\n",
      "Epoch 14/70\n",
      " - 2s - loss: 12.8922 - mean_absolute_error: 2.5709 - val_loss: 13.3083 - val_mean_absolute_error: 2.6589\n",
      "Epoch 15/70\n",
      " - 2s - loss: 12.7302 - mean_absolute_error: 2.5495 - val_loss: 13.2100 - val_mean_absolute_error: 2.6533\n",
      "Epoch 16/70\n",
      " - 2s - loss: 12.6664 - mean_absolute_error: 2.5436 - val_loss: 12.9279 - val_mean_absolute_error: 2.6136\n",
      "Epoch 17/70\n",
      " - 2s - loss: 12.4807 - mean_absolute_error: 2.5170 - val_loss: 13.0439 - val_mean_absolute_error: 2.6151\n",
      "Epoch 18/70\n",
      " - 2s - loss: 12.3732 - mean_absolute_error: 2.4995 - val_loss: 12.8125 - val_mean_absolute_error: 2.5954\n",
      "Epoch 19/70\n",
      " - 2s - loss: 12.3221 - mean_absolute_error: 2.4934 - val_loss: 13.1266 - val_mean_absolute_error: 2.6320\n",
      "Epoch 20/70\n",
      " - 2s - loss: 12.2606 - mean_absolute_error: 2.4862 - val_loss: 12.8816 - val_mean_absolute_error: 2.5935\n",
      "Epoch 21/70\n",
      " - 2s - loss: 12.1915 - mean_absolute_error: 2.4798 - val_loss: 13.4110 - val_mean_absolute_error: 2.6493\n",
      "Epoch 22/70\n",
      " - 2s - loss: 12.0849 - mean_absolute_error: 2.4590 - val_loss: 12.7585 - val_mean_absolute_error: 2.5912\n",
      "Epoch 23/70\n",
      " - 2s - loss: 11.9882 - mean_absolute_error: 2.4494 - val_loss: 13.1034 - val_mean_absolute_error: 2.5989\n",
      "Epoch 24/70\n",
      " - 2s - loss: 11.9822 - mean_absolute_error: 2.4480 - val_loss: 12.7058 - val_mean_absolute_error: 2.5863\n",
      "Epoch 25/70\n",
      " - 2s - loss: 11.8352 - mean_absolute_error: 2.4234 - val_loss: 12.9579 - val_mean_absolute_error: 2.6198\n",
      "Epoch 26/70\n",
      " - 2s - loss: 11.7950 - mean_absolute_error: 2.4152 - val_loss: 12.9162 - val_mean_absolute_error: 2.6173\n",
      "Epoch 27/70\n",
      " - 2s - loss: 11.7489 - mean_absolute_error: 2.4115 - val_loss: 13.2327 - val_mean_absolute_error: 2.6208\n",
      "Epoch 28/70\n",
      " - 2s - loss: 11.7464 - mean_absolute_error: 2.4104 - val_loss: 12.9979 - val_mean_absolute_error: 2.6168\n",
      "Epoch 29/70\n",
      " - 2s - loss: 11.6596 - mean_absolute_error: 2.3953 - val_loss: 12.8407 - val_mean_absolute_error: 2.6106\n",
      "Epoch 30/70\n",
      " - 2s - loss: 11.6250 - mean_absolute_error: 2.3913 - val_loss: 13.0679 - val_mean_absolute_error: 2.6019\n",
      "Train: 2.348, Test: 2.602\n"
     ]
    },
    {
     "data": {
      "image/png": "[encoded data removed]",
      "text/plain": [
       "<Figure size 432x288 with 1 Axes>"
      ]
     },
     "metadata": {
      "needs_background": "light"
     },
     "output_type": "display_data"
    },
    {
     "name": "stdout",
     "output_type": "stream",
     "text": [
      "\n",
      "    ...value_pickles\\gen2_p1_DVN.h5 guardado!\n",
      "## Carga de partidas de entrenamiento P2 desde Disco (pickles) con prefijo 'value_pickles\\gen2_'\n",
      "\n",
      "## Entrenando Red para P1ayer 2\n",
      "Train on 99159 samples, validate on 17866 samples\n",
      "Epoch 1/70\n",
      " - 4s - loss: 31.1695 - mean_absolute_error: 4.1761 - val_loss: 23.6717 - val_mean_absolute_error: 3.6452\n",
      "Epoch 2/70\n",
      " - 2s - loss: 24.9615 - mean_absolute_error: 3.7483 - val_loss: 20.8558 - val_mean_absolute_error: 3.4255\n",
      "Epoch 3/70\n",
      " - 2s - loss: 21.7441 - mean_absolute_error: 3.4881 - val_loss: 18.2667 - val_mean_absolute_error: 3.2404\n",
      "Epoch 4/70\n",
      " - 2s - loss: 19.3253 - mean_absolute_error: 3.2785 - val_loss: 16.4277 - val_mean_absolute_error: 3.0411\n",
      "Epoch 5/70\n",
      " - 2s - loss: 17.4306 - mean_absolute_error: 3.1098 - val_loss: 14.8621 - val_mean_absolute_error: 2.8757\n",
      "Epoch 6/70\n",
      " - 2s - loss: 16.0563 - mean_absolute_error: 2.9686 - val_loss: 14.3857 - val_mean_absolute_error: 2.8492\n",
      "Epoch 7/70\n",
      " - 2s - loss: 15.1692 - mean_absolute_error: 2.8802 - val_loss: 13.9048 - val_mean_absolute_error: 2.7763\n",
      "Epoch 8/70\n",
      " - 2s - loss: 14.2552 - mean_absolute_error: 2.7825 - val_loss: 13.9507 - val_mean_absolute_error: 2.7902\n",
      "Epoch 9/70\n",
      " - 2s - loss: 13.6450 - mean_absolute_error: 2.7121 - val_loss: 14.3445 - val_mean_absolute_error: 2.8209\n",
      "Epoch 10/70\n",
      " - 2s - loss: 13.1674 - mean_absolute_error: 2.6578 - val_loss: 13.4373 - val_mean_absolute_error: 2.7328\n",
      "Epoch 11/70\n",
      " - 2s - loss: 12.7419 - mean_absolute_error: 2.6067 - val_loss: 13.7092 - val_mean_absolute_error: 2.7587\n",
      "Epoch 12/70\n",
      " - 2s - loss: 12.4722 - mean_absolute_error: 2.5754 - val_loss: 12.9933 - val_mean_absolute_error: 2.6870\n",
      "Epoch 13/70\n",
      " - 2s - loss: 12.1584 - mean_absolute_error: 2.5321 - val_loss: 14.0750 - val_mean_absolute_error: 2.7632\n",
      "Epoch 14/70\n",
      " - 2s - loss: 12.0384 - mean_absolute_error: 2.5162 - val_loss: 13.2093 - val_mean_absolute_error: 2.7288\n",
      "Epoch 15/70\n",
      " - 2s - loss: 11.8359 - mean_absolute_error: 2.4868 - val_loss: 12.6295 - val_mean_absolute_error: 2.6734\n",
      "Epoch 16/70\n",
      " - 2s - loss: 11.6565 - mean_absolute_error: 2.4605 - val_loss: 12.3734 - val_mean_absolute_error: 2.6372\n",
      "Epoch 17/70\n",
      " - 2s - loss: 11.5094 - mean_absolute_error: 2.4392 - val_loss: 13.1059 - val_mean_absolute_error: 2.6703\n",
      "Epoch 18/70\n",
      " - 2s - loss: 11.4420 - mean_absolute_error: 2.4285 - val_loss: 12.6762 - val_mean_absolute_error: 2.6518\n",
      "Epoch 19/70\n",
      " - 2s - loss: 11.2743 - mean_absolute_error: 2.4047 - val_loss: 12.5412 - val_mean_absolute_error: 2.6374\n",
      "Epoch 20/70\n",
      " - 2s - loss: 11.1043 - mean_absolute_error: 2.3805 - val_loss: 13.1561 - val_mean_absolute_error: 2.6954\n",
      "Epoch 21/70\n",
      " - 2s - loss: 11.0468 - mean_absolute_error: 2.3677 - val_loss: 12.1247 - val_mean_absolute_error: 2.6062\n",
      "Epoch 22/70\n",
      " - 2s - loss: 10.8803 - mean_absolute_error: 2.3466 - val_loss: 12.6454 - val_mean_absolute_error: 2.6441\n",
      "Epoch 23/70\n",
      " - 2s - loss: 10.8281 - mean_absolute_error: 2.3330 - val_loss: 12.5498 - val_mean_absolute_error: 2.6410\n",
      "Epoch 24/70\n",
      " - 2s - loss: 10.7624 - mean_absolute_error: 2.3275 - val_loss: 12.3589 - val_mean_absolute_error: 2.6477\n",
      "Epoch 25/70\n",
      " - 2s - loss: 10.6819 - mean_absolute_error: 2.3142 - val_loss: 12.6087 - val_mean_absolute_error: 2.6297\n",
      "Epoch 26/70\n",
      " - 2s - loss: 10.5883 - mean_absolute_error: 2.2957 - val_loss: 12.7552 - val_mean_absolute_error: 2.6744\n",
      "Epoch 27/70\n",
      " - 2s - loss: 10.4615 - mean_absolute_error: 2.2776 - val_loss: 12.4651 - val_mean_absolute_error: 2.6462\n",
      "Train: 2.247, Test: 2.646\n"
     ]
    },
    {
     "data": {
      "image/png": "[encoded data removed]",
      "text/plain": [
       "<Figure size 432x288 with 1 Axes>"
      ]
     },
     "metadata": {
      "needs_background": "light"
     },
     "output_type": "display_data"
    },
    {
     "name": "stdout",
     "output_type": "stream",
     "text": [
      "\n",
      "    ...value_pickles\\gen2_p2_DVN.h5 guardado!\n",
      "  ##   Load_and_Test   ##\n",
      "\n",
      "  ## Carga de partidas de Test desde Disco (pickles) con prefijo: value_pickles\\gen2_\n",
      "\n",
      "## Loading model from disk\n",
      "###########################\n",
      "##   Partida de Prueba   ##\n",
      "###########################\n",
      "\n",
      "1) p1 juega c1, acciones de p2 disponibles\n",
      "[<Accion.ENVIDO: 7>, <Accion.REALENVIDO: 8>, <Accion.FALTAENVIDO: 9>, <Accion.GRITAR: 5>, <Accion.JUGAR_C1: 1>, <Accion.JUGAR_C2: 2>, <Accion.JUGAR_C3: 3>]\n",
      "\n",
      "Le toca a p2\n",
      " cartas en mesa: [1-Espada]\n",
      " cartas totales: [1-Basto, 2-Oro, 4-Basto]\n",
      " cartas restates: [1-Basto, 2-Oro, 4-Basto]\n",
      "\n",
      "p2> accion posible: ENVIDO,  valor:[[2.3449526]]\n",
      "p2> accion posible: REALENVIDO,  valor:[[4.9682975]]\n",
      "p2> accion posible: FALTAENVIDO,  valor:[[0.94131225]]\n",
      "p2> accion posible: GRITAR,  valor:[[1.1412629]]\n",
      "p2> accion posible: JUGAR_C1,  valor:[[1.0846682]]\n",
      "p2> accion posible: JUGAR_C2,  valor:[[0.7973508]]\n",
      "p2> accion posible: JUGAR_C3,  valor:[[0.84322596]]\n",
      "\n",
      "   #debug@ ## TERMINE! ##   ## ValueNetworkTrainer()   ## T=1683.44s\n"
     ]
    }
   ],
   "source": [
    "###\n",
    "### AUTOMATIC TRAINER\n",
    "###\n",
    "\n",
    "    #  parametros de trainer ( start_gen , number_of_generations,  iterations_per_generation, multiprocess=False)\n",
    "    # start_gen ultima version donde debe existir el DVN.h5. Primer output sera la startgen+1\n",
    "    # si start_gen = 0 arranca con los AgentesRandom\n",
    "    \n",
    "# Ejemplo: Arranca con los agentes random, hara 2 generaciones, con 10.000 partidas cada generacion, usando multiprocesamiento\n",
    "ValueNetworkEngine.ValueNetworkTrainer(0, 2, 10000, True) \n"
   ]
  },
  {
   "cell_type": "markdown",
   "metadata": {},
   "source": [
    "Es muy util testear un agente contra su padre. Aunque demora un poco, recomiendo usar no menos de 50.000 partidas para validar (potencialmente mas si se quiere un intervalo de confianza menor a 1%)"
   ]
  },
  {
   "cell_type": "code",
   "execution_count": null,
   "metadata": {},
   "outputs": [],
   "source": [
    "# Pueden testear ese agente versus otros agentes (usando el 0 se carga el AgenteRandom)\n",
    "\n",
    "print(\"\")\n",
    "ValueNetworkEngine.HeadToHead_PlayTest(1, 0, 50000, False) \n",
    "print(\"\")\n",
    "ValueNetworkEngine.HeadToHead_PlayTest(0, 1, 50000, False) "
   ]
  },
  {
   "cell_type": "markdown",
   "metadata": {},
   "source": [
    "########################################\n",
    "\n",
    "<font size=\"+1\"><b>HIPERPARAMETROS PARA TUNEAR</b></font>\n",
    "\n",
    "No se recomienda usar multiprocess en ambientes con GPU. Cada multiprocess levanta ya 2 Redes Neuronales (p1 y p2) y a veces CUDA tira errores de memoria si uso batches de entrenamiento grandes (depende de la memoria del GPU, version de cuda, gran etc).\n",
    "\n",
    "Si un CPU tiene muchos nucleos quizas hasta sea mas rapido que usar GPU por la naturaleza del tipo de computos.\n",
    "\n",
    "para tunear cuantos procesos se van a utilizar se puede cambiar la variable <b>MULTIPROCESS_WORKER_POOL_COUNT</b> dentro de la clase <b>HiperParametros</b> del modulo <b>Truco_Value_Network</b>\n",
    "(por defecto se usan 2)"
   ]
  },
  {
   "cell_type": "markdown",
   "metadata": {},
   "source": [
    "\n",
    "\n",
    "Otros parametros que se pueden tunear, en clase HiperParametros:\n",
    "\n",
    "    MAX_EPOCHS_PERGEN = 70    \n",
    "    PATIENCE_PERGEN = 6\n",
    "    BATCH_SIZE = 256\n",
    "    VALIDATION_RATIO = 0.40  # as % of the total amount of training games\n",
    "    TRAINING_EPSILON = 0.1\n",
    "    PLAYING_EPSILON = 0\n",
    "    MULTIPROCESS_WORKER_POOL_COUNT = 2  # Ovearhead warning (y no funciona bien en entornos con GPU habilitadas)"
   ]
  },
  {
   "cell_type": "code",
   "execution_count": 10,
   "metadata": {},
   "outputs": [],
   "source": [
    "# Por ejemplo cambiamos la cantidad de procesos CPU que queremos usar\n",
    "HiperParametros.MULTIPROCESS_WORKER_POOL_COUNT = 4"
   ]
  },
  {
   "cell_type": "markdown",
   "metadata": {},
   "source": [
    "########################################\n",
    "\n",
    "<font size=\"+1\"><b>Version Manual de Entrenamiento</b></font>\n",
    "\n",
    "Hay veces que podriamos querer correr distintas secciones del pipe de entrenamiento de forma separada para tunear aspectos del mismo"
   ]
  },
  {
   "cell_type": "code",
   "execution_count": null,
   "metadata": {},
   "outputs": [],
   "source": [
    "# generacion de comienzo\n",
    "# WARNING: debe existir el DVN.h5 en la subcarpeta \"value_pickles\" \n",
    "# Primer output sera la i+1\n",
    "i = 2\n",
    "\n",
    "gen_n = \"value_pickles\\gen\" + str(i) + \"_\"\n",
    "gen_next = \"value_pickles\\gen\" + str(i + 1) + \"_\"\n",
    "if i == 0: gen_n = None\n",
    "\n",
    "                \n"
   ]
  },
  {
   "cell_type": "code",
   "execution_count": null,
   "metadata": {},
   "outputs": [],
   "source": [
    "##\n",
    "# PASO 1\n",
    "# (aqui tomamos el agente inicial y generamos partidas de entrenamiento para el hijo\n",
    "#  que se guardaran como pickles en la subcarpeta \"value_pickles\")\n",
    "##\n",
    "\n",
    "ValueNetworkEngine.Generate_and_Save(gen_n, gen_next, games_per_gen, multi_process)\n"
   ]
  },
  {
   "cell_type": "code",
   "execution_count": null,
   "metadata": {},
   "outputs": [],
   "source": [
    "##\n",
    "# PASO 2\n",
    "# (aqui tomamos los pickles generados en disco y entrenamos a dos agentes (p1 y p2) con esas partidas\n",
    "#  si renombramos archivos podemos podemos forzar que tome otras partidas de referencia para entrenar)\n",
    "##\n",
    "\n",
    "if i == 0:\n",
    "    # parametro de cargar padre en False dado que i=0\n",
    "    ValueNetworkEngine.Train_Save(gen_next, HiperParametros.MAX_EPOCHS_PERGEN, False) \n",
    "else:\n",
    "    ValueNetworkEngine.Train_Save(gen_next, HiperParametros.MAX_EPOCHS_PERGEN, True)"
   ]
  },
  {
   "cell_type": "code",
   "execution_count": null,
   "metadata": {},
   "outputs": [],
   "source": [
    "##\n",
    "# PASO 3 (opcional)\n",
    "# (aqui levantamos los DVN y les hacemos una prueba acida con una jugada prefabricada)\n",
    "# En esta prueba jugar_c1 y jugar_c2 son jugadas objetivamente malas que nos harian perder el truco \n",
    "# y dificilmente aporten a mentir, por lo que no pueden tener puntaje mejor que jugar_c3\n",
    "##\n",
    "ValueNetworkEngine.Load_and_Test(gen_next)"
   ]
  },
  {
   "cell_type": "code",
   "execution_count": 16,
   "metadata": {
    "scrolled": true
   },
   "outputs": [
    {
     "name": "stdout",
     "output_type": "stream",
     "text": [
      "[name: \"/device:CPU:0\"\n",
      "device_type: \"CPU\"\n",
      "memory_limit: 268435456\n",
      "locality {\n",
      "}\n",
      "incarnation: 12931043626812551730\n",
      "]\n"
     ]
    }
   ],
   "source": [
    "# ANEXO\n",
    "# CODIGO PARA VERIFICAR SI EL AMBIENTE ESTA USANDO GPU\n",
    "# si usa solo CPU deberia aparecer solo un device type (que si tiene  varias lineas) de CPU\n",
    "from tensorflow.python.client import device_lib\n",
    "print(device_lib.list_local_devices())"
   ]
  }
 ],
 "metadata": {
  "kernelspec": {
   "display_name": "Python 3",
   "language": "python",
   "name": "python3"
  },
  "language_info": {
   "codemirror_mode": {
    "name": "ipython",
    "version": 3
   },
   "file_extension": ".py",
   "mimetype": "text/x-python",
   "name": "python",
   "nbconvert_exporter": "python",
   "pygments_lexer": "ipython3",
   "version": "3.7.3"
  }
 },
 "nbformat": 4,
 "nbformat_minor": 2
}
