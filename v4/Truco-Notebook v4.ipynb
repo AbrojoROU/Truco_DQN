{
 "cells": [
  {
   "cell_type": "code",
   "execution_count": 1,
   "metadata": {},
   "outputs": [
    {
     "name": "stderr",
     "output_type": "stream",
     "text": [
      "Using TensorFlow backend.\n"
     ]
    }
   ],
   "source": [
    "from Truco_Pruebas_v3 import *\n",
    "from Truco_Core_v3 import *\n",
    "from Truco_Value_Network_v3 import ValueNetworkEngine"
   ]
  },
  {
   "cell_type": "code",
   "execution_count": null,
   "metadata": {},
   "outputs": [],
   "source": [
    "### JUGAR HUMANO (p1)  VS   DVN (p2)\n",
    "Motor.Play_Human_game(Humano(Reglas.JUGADOR1),\n",
    "                            AgenteDVN(Reglas.JUGADOR2, keras.models.load_model(\"value_pickles\\gen20_p2_DVN.h5\")),\n",
    "                            True)"
   ]
  },
  {
   "cell_type": "code",
   "execution_count": null,
   "metadata": {},
   "outputs": [],
   "source": [
    "### JUGAR DVN (p1)  VS   HUMANO (p2)\n",
    "Motor.Play_Human_game(AgenteDVN(Reglas.JUGADOR1,keras.models.load_model(\"value_pickles\\gen14_p2_DVN.h5\")),\n",
    "                            Humano(Reglas.JUGADOR2),\n",
    "                            True)"
   ]
  },
  {
   "cell_type": "code",
   "execution_count": null,
   "metadata": {},
   "outputs": [],
   "source": [
    "gen_p1 = \"value_pickles\\gen95_\"\n",
    "p1_DVN = keras.models.load_model(gen_p1 + \"p1_DVN.h5\")\n",
    "p1_DVN.summary()\n",
    "\n",
    "print(\"\")\n",
    "print(\"\")\n",
    "print(\"\")\n",
    "gen_p1 = \"value_pickles\\gen21_\"\n",
    "p1_DVN = keras.models.load_model(gen_p1 + \"p1_DVN.h5\")\n",
    "p1_DVN.summary()"
   ]
  },
  {
   "cell_type": "code",
   "execution_count": 17,
   "metadata": {},
   "outputs": [
    {
     "name": "stdout",
     "output_type": "stream",
     "text": [
      "\n",
      "\n",
      "JUGANDO gen22 versus gen21\n",
      "100.0 % Training completado ## RESULTADO ##  N= 20000 - j1: 9523, j2: 10477, Empates: 0, WINRATIO p1:47.61 ##\n",
      "\n",
      "\n",
      "JUGANDO gen21 versus gen22\n",
      "100.0 % Training completado ## RESULTADO ##  N= 20000 - j1: 7769, j2: 12231, Empates: 0, WINRATIO p1:38.84 ##\n",
      "\n",
      "\n",
      "JUGANDO gen95 versus gen22\n",
      "100.0 % Training completado ## RESULTADO ##  N= 20000 - j1: 7897, j2: 12103, Empates: 0, WINRATIO p1:39.48 ##\n",
      "\n",
      "\n",
      "JUGANDO gen22 versus gen95\n",
      "100.0 % Training completado ## RESULTADO ##  N= 20000 - j1: 8596, j2: 11404, Empates: 0, WINRATIO p1:42.98 ##\n"
     ]
    }
   ],
   "source": [
    "print(\"\")\n",
    "ValueNetworkEngine.ValueTrainingTest(22, 21, 20000, False) # quiero menos de 41!\n",
    "print(\"\")\n",
    "ValueNetworkEngine.ValueTrainingTest(21, 22, 20000, False) # quiero un 42 o mas!\n",
    "\n",
    "print(\"\")\n",
    "ValueNetworkEngine.ValueTrainingTest(95, 22, 20000, False) # quiero menos de 41!\n",
    "print(\"\")\n",
    "ValueNetworkEngine.ValueTrainingTest(22, 95, 20000, False) # quiero un 42 o mas!"
   ]
  },
  {
   "cell_type": "code",
   "execution_count": null,
   "metadata": {},
   "outputs": [],
   "source": [
    "print(\"\")\n",
    "ValueNetworkEngine.ValueTrainingTest(70, 13, 20000, False) # quiero menos de 41!\n",
    "print(\"\")\n",
    "ValueNetworkEngine.ValueTrainingTest(13, 70, 20000, False) # quiero un 42 o mas!"
   ]
  },
  {
   "cell_type": "code",
   "execution_count": 16,
   "metadata": {
    "scrolled": true
   },
   "outputs": [
    {
     "name": "stdout",
     "output_type": "stream",
     "text": [
      "[name: \"/device:CPU:0\"\n",
      "device_type: \"CPU\"\n",
      "memory_limit: 268435456\n",
      "locality {\n",
      "}\n",
      "incarnation: 12931043626812551730\n",
      "]\n"
     ]
    }
   ],
   "source": [
    "# CODE TO CHECK GPU\n",
    "from tensorflow.python.client import device_lib\n",
    "print(device_lib.list_local_devices())"
   ]
  },
  {
   "cell_type": "code",
   "execution_count": null,
   "metadata": {},
   "outputs": [],
   "source": [
    "ValueNetworkEngine.Load_and_Test(\"value_pickles\\gen14_\")"
   ]
  },
  {
   "cell_type": "code",
   "execution_count": null,
   "metadata": {},
   "outputs": [
    {
     "name": "stdout",
     "output_type": "stream",
     "text": [
      "   #debug@ COMIENZO!   ## ValueNetworkTrainer()   ## T=61.2597s\n",
      "\n",
      "\n",
      "##########################\n",
      "##     GENERACION 23     ##\n",
      "##########################\n",
      "\n",
      "  ##   Generate_and_Save   ##\n",
      "\n",
      "1. Generando Partidas de entrenamiento\n",
      "Generando Partidas.. ( batch_size=100000 )\n",
      "\n"
     ]
    }
   ],
   "source": [
    "#ValueNetworkEngine.ValueNetworkTrainer(22, 1, 100000, True)"
   ]
  },
  {
   "cell_type": "code",
   "execution_count": null,
   "metadata": {},
   "outputs": [],
   "source": []
  }
 ],
 "metadata": {
  "kernelspec": {
   "display_name": "Python 3",
   "language": "python",
   "name": "python3"
  },
  "language_info": {
   "codemirror_mode": {
    "name": "ipython",
    "version": 3
   },
   "file_extension": ".py",
   "mimetype": "text/x-python",
   "name": "python",
   "nbconvert_exporter": "python",
   "pygments_lexer": "ipython3",
   "version": "3.7.3"
  }
 },
 "nbformat": 4,
 "nbformat_minor": 2
}
