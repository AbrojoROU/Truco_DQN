{
 "cells": [
  {
   "cell_type": "code",
   "execution_count": 1,
   "metadata": {},
   "outputs": [
    {
     "name": "stderr",
     "output_type": "stream",
     "text": [
      "Using TensorFlow backend.\n"
     ]
    }
   ],
   "source": [
    "from Truco_Pruebas_v4 import *\n",
    "from Truco_Core_v4 import *\n",
    "from Truco_Value_Network_v4 import ValueNetworkEngine"
   ]
  },
  {
   "cell_type": "code",
   "execution_count": 2,
   "metadata": {},
   "outputs": [
    {
     "name": "stdout",
     "output_type": "stream",
     "text": [
      "WARNING:tensorflow:From C:\\Users\\mprevitali\\AppData\\Local\\Continuum\\anaconda3\\lib\\site-packages\\tensorflow\\python\\framework\\op_def_library.py:263: colocate_with (from tensorflow.python.framework.ops) is deprecated and will be removed in a future version.\n",
      "Instructions for updating:\n",
      "Colocations handled automatically by placer.\n",
      "WARNING:tensorflow:From C:\\Users\\mprevitali\\AppData\\Local\\Continuum\\anaconda3\\lib\\site-packages\\keras\\backend\\tensorflow_backend.py:3445: calling dropout (from tensorflow.python.ops.nn_ops) with keep_prob is deprecated and will be removed in a future version.\n",
      "Instructions for updating:\n",
      "Please use `rate` instead of `keep_prob`. Rate should be set to `rate = 1 - keep_prob`.\n",
      "WARNING:tensorflow:From C:\\Users\\mprevitali\\AppData\\Local\\Continuum\\anaconda3\\lib\\site-packages\\tensorflow\\python\\ops\\math_ops.py:3066: to_int32 (from tensorflow.python.ops.math_ops) is deprecated and will be removed in a future version.\n",
      "Instructions for updating:\n",
      "Use tf.cast instead.\n",
      "\n",
      "  Cartas Jugador 1: [3-Espada, 6-Oro, 5-Oro],  puntos envido: 31\n",
      "  Cartas Jugador 2: [7-Oro, 12-Oro, 5-Espada],  puntos envido: 27\n",
      "\n",
      "###  TE TOCA HUMANO, p1  ###\n",
      "   El estado del Truco es: NADA_DICHO\n",
      "   El estado del Envido es: NADA_DICHO\n",
      "   Se jugaron las siguientes cartas: []\n",
      "   Cartas en la mano: [3-Espada, 6-Oro, 5-Oro]\n",
      "\n",
      "Debes elegir accion! acciones posibles: \n",
      "   7. ENVIDO\n",
      "   8. REALENVIDO\n",
      "   9. FALTAENVIDO\n",
      "   5. GRITAR\n",
      "   1. JUGAR_C1\n",
      "   2. JUGAR_C2\n",
      "   3. JUGAR_C3\n",
      "\n",
      "   Ingrese accion: 7\n",
      "   #debug@   p1 - ejecutando accion: Accion.ENVIDO   ## EjecutarAccion()   ## T=63.6183s\n",
      "\n",
      " p2 me toca!\n",
      "   #debug@      p2 pensando en: ENVIDO,  valor:[[1.5115047]]   ## Elegir_Accion()   ## T=63.8821s\n",
      "   #debug@      p2 pensando en: REALENVIDO,  valor:[[-0.43239903]]   ## Elegir_Accion()   ## T=63.9143s\n",
      "   #debug@      p2 pensando en: FALTAENVIDO,  valor:[[-5.35074]]   ## Elegir_Accion()   ## T=63.9445s\n",
      "   #debug@      p2 pensando en: ACEPTAR_TANTO,  valor:[[-0.622229]]   ## Elegir_Accion()   ## T=63.9686s\n",
      "   #debug@      p2 pensando en: RECHAZAR_TANTO,  valor:[[-0.38009325]]   ## Elegir_Accion()   ## T=63.9925s\n",
      "   #debug@      p2> accion elegida: ENVIDO,  valor:[[1.5115047]]   ## Elegir_Accion()   ## T=64.0165s\n",
      "   #debug@   p2 - ejecutando accion: Accion.ENVIDO   ## EjecutarAccion()   ## T=64.0380s\n",
      "\n",
      "###  TE TOCA HUMANO, p1  ###\n",
      "   El estado del Truco es: NADA_DICHO\n",
      "   El estado del Envido es: EE_DICHO\n",
      "   Se jugaron las siguientes cartas: []\n",
      "   Cartas en la mano: [3-Espada, 6-Oro, 5-Oro]\n",
      "\n",
      "Debes elegir accion! acciones posibles: \n",
      "   9. FALTAENVIDO\n",
      "   11. ACEPTAR_TANTO\n",
      "   10. RECHAZAR_TANTO\n",
      "\n",
      "   Ingrese accion: 9\n",
      "   #debug@   p1 - ejecutando accion: Accion.FALTAENVIDO   ## EjecutarAccion()   ## T=91.5886s\n",
      "\n",
      " p2 me toca!\n",
      "   #debug@      p2 pensando en: ACEPTAR_TANTO,  valor:[[-7.429726]]   ## Elegir_Accion()   ## T=91.6937s\n",
      "   #debug@      p2 pensando en: RECHAZAR_TANTO,  valor:[[-3.2676764]]   ## Elegir_Accion()   ## T=91.7310s\n",
      "   #debug@      p2> accion elegida: RECHAZAR_TANTO,  valor:[[-3.2676764]]   ## Elegir_Accion()   ## T=91.7623s\n",
      "   #debug@   p2 - ejecutando accion: Accion.RECHAZAR_TANTO   ## EjecutarAccion()   ## T=91.7779s\n",
      "\n",
      "###  TE TOCA HUMANO, p1  ###\n",
      "   El estado del Truco es: NADA_DICHO\n",
      "   El estado del Envido es: EEF_RECHAZADO\n",
      "   Se jugaron las siguientes cartas: []\n",
      "   Cartas en la mano: [3-Espada, 6-Oro, 5-Oro]\n",
      "\n",
      "Debes elegir accion! acciones posibles: \n",
      "   5. GRITAR\n",
      "   1. JUGAR_C1\n",
      "   2. JUGAR_C2\n",
      "   3. JUGAR_C3\n",
      "\n",
      "   Ingrese accion: 2\n",
      "   #debug@   p1 - ejecutando accion: Accion.JUGAR_C2   ## EjecutarAccion()   ## T=100.779s\n",
      "\n",
      " p2 me toca!\n",
      "   #debug@      p2 pensando en: GRITAR,  valor:[[-3.7316473]]   ## Elegir_Accion()   ## T=100.802s\n",
      "   #debug@      p2 pensando en: JUGAR_C1,  valor:[[-4.2317452]]   ## Elegir_Accion()   ## T=100.814s\n",
      "   #debug@      p2 pensando en: JUGAR_C2,  valor:[[-3.361599]]   ## Elegir_Accion()   ## T=100.830s\n",
      "   #debug@      p2 pensando en: JUGAR_C3,  valor:[[-4.4406514]]   ## Elegir_Accion()   ## T=100.861s\n",
      "   #debug@      p2> accion elegida: JUGAR_C2,  valor:[[-3.361599]]   ## Elegir_Accion()   ## T=100.904s\n",
      "   #debug@   p2 - ejecutando accion: Accion.JUGAR_C2   ## EjecutarAccion()   ## T=100.922s\n",
      "\n",
      " p2 me toca!\n",
      "   #debug@      p2 pensando en: GRITAR,  valor:[[-3.0484934]]   ## Elegir_Accion()   ## T=100.937s\n",
      "   #debug@      p2 pensando en: JUGAR_C1,  valor:[[-1.3127481]]   ## Elegir_Accion()   ## T=100.953s\n",
      "   #debug@      p2 pensando en: JUGAR_C3,  valor:[[-2.6452713]]   ## Elegir_Accion()   ## T=100.969s\n",
      "   #debug@      p2> accion elegida: JUGAR_C1,  valor:[[-1.3127481]]   ## Elegir_Accion()   ## T=101.006s\n",
      "   #debug@   p2 - ejecutando accion: Accion.JUGAR_C1   ## EjecutarAccion()   ## T=101.022s\n",
      "\n",
      "###  TE TOCA HUMANO, p1  ###\n",
      "   El estado del Truco es: NADA_DICHO\n",
      "   El estado del Envido es: EEF_RECHAZADO\n",
      "   Se jugaron las siguientes cartas: [6-Oro, 12-Oro, 7-Oro]\n",
      "   Cartas en la mano: [3-Espada, 5-Oro]\n",
      "\n",
      "Debes elegir accion! acciones posibles: \n",
      "   5. GRITAR\n",
      "   1. JUGAR_C1\n",
      "   3. JUGAR_C3\n",
      "\n",
      "   Ingrese accion: 5\n",
      "   #debug@   p1 - ejecutando accion: Accion.GRITAR   ## EjecutarAccion()   ## T=183.039s\n",
      "\n",
      " p2 me toca!\n",
      "   #debug@      p2 pensando en: QUIERO_GRITO,  valor:[[-2.067234]]   ## Elegir_Accion()   ## T=183.059s\n",
      "   #debug@      p2 pensando en: GRITAR,  valor:[[-3.3800857]]   ## Elegir_Accion()   ## T=183.079s\n",
      "   #debug@      p2 pensando en: FOLD,  valor:[[-5.7944527]]   ## Elegir_Accion()   ## T=183.097s\n",
      "   #debug@      p2> accion elegida: QUIERO_GRITO,  valor:[[-2.067234]]   ## Elegir_Accion()   ## T=183.100s\n",
      "   #debug@   p2 - ejecutando accion: Accion.QUIERO_GRITO   ## EjecutarAccion()   ## T=183.116s\n",
      "\n",
      "###  TE TOCA HUMANO, p1  ###\n",
      "   El estado del Truco es: TRUCO_ACEPTADO\n",
      "   El estado del Envido es: EEF_RECHAZADO\n",
      "   Se jugaron las siguientes cartas: [6-Oro, 12-Oro, 7-Oro]\n",
      "   Cartas en la mano: [3-Espada, 5-Oro]\n",
      "\n",
      "Debes elegir accion! acciones posibles: \n",
      "   1. JUGAR_C1\n",
      "   3. JUGAR_C3\n",
      "\n",
      "   Ingrese accion: 3\n",
      "   #debug@   p1 - ejecutando accion: Accion.JUGAR_C3   ## EjecutarAccion()   ## T=238.008s\n",
      "\n",
      " p2 me toca!\n",
      "   #debug@      p2 pensando en: GRITAR,  valor:[[-5.235617]]   ## Elegir_Accion()   ## T=238.029s\n",
      "   #debug@      p2 pensando en: JUGAR_C3,  valor:[[-1.7626704]]   ## Elegir_Accion()   ## T=238.050s\n",
      "   #debug@      p2> accion elegida: JUGAR_C3,  valor:[[-1.7626704]]   ## Elegir_Accion()   ## T=238.054s\n",
      "   #debug@   p2 - ejecutando accion: Accion.JUGAR_C3   ## EjecutarAccion()   ## T=238.085s\n",
      "\n",
      "###  TE TOCA HUMANO, p1  ###\n",
      "   El estado del Truco es: TRUCO_ACEPTADO\n",
      "   El estado del Envido es: EEF_RECHAZADO\n",
      "   Se jugaron las siguientes cartas: [6-Oro, 12-Oro, 7-Oro, 5-Oro, 5-Espada]\n",
      "   Cartas en la mano: [3-Espada]\n",
      "\n",
      "Debes elegir accion! acciones posibles: \n",
      "   1. JUGAR_C1\n",
      "\n",
      "   Ingrese accion: 1\n",
      "   #debug@   p1 - ejecutando accion: Accion.JUGAR_C1   ## EjecutarAccion()   ## T=243.025s\n",
      " GANE EL TRUCO! (jugador 2)\n",
      "\n",
      "Termino la partida, cartas jugadas finales: [6-Oro, 12-Oro, 7-Oro, 5-Oro, 5-Espada, 3-Espada]\n",
      "Ganó: p1! ,  con puntaje:(6, 0)\n",
      "    >las cartas de p1 eran: [3-Espada, 6-Oro, 5-Oro]\n",
      "    >las cartas de p2 eran: [7-Oro, 12-Oro, 5-Espada]\n"
     ]
    }
   ],
   "source": [
    "# JUGAR HUMANO (p1)  VS   DVN (p2)\n",
    "Motor.Play_Human_game(Humano(Reglas.JUGADOR1),\n",
    "                            AgenteDVN(Reglas.JUGADOR2, keras.models.load_model(\"value_pickles\\gen9_p2_DVN.h5\")),\n",
    "                            True)"
   ]
  },
  {
   "cell_type": "code",
   "execution_count": null,
   "metadata": {},
   "outputs": [
    {
     "name": "stdout",
     "output_type": "stream",
     "text": [
      "\n",
      "  Cartas Jugador 1: [7-Oro, 12-Oro, 5-Oro],  puntos envido: 32\n",
      "  Cartas Jugador 2: [1-Espada, 11-Basto, 10-Espada],  puntos envido: 21\n",
      "\n",
      " p1 me toca!\n",
      "   #debug@      p1 pensando en: ENVIDO,  valor:[[2.9504223]]   ## Elegir_Accion()   ## T=401.828s\n",
      "   #debug@      p1 pensando en: REALENVIDO,  valor:[[2.3886425]]   ## Elegir_Accion()   ## T=401.844s\n",
      "   #debug@      p1 pensando en: FALTAENVIDO,  valor:[[1.9084283]]   ## Elegir_Accion()   ## T=401.861s\n",
      "   #debug@      p1 pensando en: GRITAR,  valor:[[1.3294092]]   ## Elegir_Accion()   ## T=401.877s\n",
      "   #debug@      p1 pensando en: JUGAR_C1,  valor:[[0.3812033]]   ## Elegir_Accion()   ## T=401.908s\n",
      "   #debug@      p1 pensando en: JUGAR_C2,  valor:[[1.3238765]]   ## Elegir_Accion()   ## T=401.923s\n",
      "   #debug@      p1 pensando en: JUGAR_C3,  valor:[[1.6357509]]   ## Elegir_Accion()   ## T=401.961s\n",
      "   #debug@      p1> accion elegida: ENVIDO,  valor:[[2.9504223]]   ## Elegir_Accion()   ## T=402.000s\n",
      "   #debug@   p1 - ejecutando accion: Accion.ENVIDO   ## EjecutarAccion()   ## T=402.016s\n",
      "\n",
      "###  TE TOCA HUMANO, p2  ###\n",
      "   El estado del Truco es: NADA_DICHO\n",
      "   El estado del Envido es: E_DICHO\n",
      "   Se jugaron las siguientes cartas: []\n",
      "   Cartas en la mano: [1-Espada, 11-Basto, 10-Espada]\n",
      "\n",
      "Debes elegir accion! acciones posibles: \n",
      "   7. ENVIDO\n",
      "   8. REALENVIDO\n",
      "   9. FALTAENVIDO\n",
      "   11. ACEPTAR_TANTO\n",
      "   10. RECHAZAR_TANTO\n",
      "\n"
     ]
    }
   ],
   "source": [
    "### JUGAR DVN (p1)  VS   HUMANO (p2)\n",
    "Motor.Play_Human_game(AgenteDVN(Reglas.JUGADOR1,keras.models.load_model(\"value_pickles\\gen9_p2_DVN.h5\")),\n",
    "                            Humano(Reglas.JUGADOR2),\n",
    "                            True)"
   ]
  },
  {
   "cell_type": "code",
   "execution_count": null,
   "metadata": {},
   "outputs": [],
   "source": [
    "gen_p1 = \"value_pickles\\gen95_\"\n",
    "p1_DVN = keras.models.load_model(gen_p1 + \"p1_DVN.h5\")\n",
    "p1_DVN.summary()\n",
    "\n",
    "print(\"\")\n",
    "print(\"\")\n",
    "print(\"\")\n",
    "gen_p1 = \"value_pickles\\gen21_\"\n",
    "p1_DVN = keras.models.load_model(gen_p1 + \"p1_DVN.h5\")\n",
    "p1_DVN.summary()"
   ]
  },
  {
   "cell_type": "code",
   "execution_count": 17,
   "metadata": {},
   "outputs": [
    {
     "name": "stdout",
     "output_type": "stream",
     "text": [
      "\n",
      "\n",
      "JUGANDO gen22 versus gen21\n",
      "100.0 % Training completado ## RESULTADO ##  N= 20000 - j1: 9523, j2: 10477, Empates: 0, WINRATIO p1:47.61 ##\n",
      "\n",
      "\n",
      "JUGANDO gen21 versus gen22\n",
      "100.0 % Training completado ## RESULTADO ##  N= 20000 - j1: 7769, j2: 12231, Empates: 0, WINRATIO p1:38.84 ##\n",
      "\n",
      "\n",
      "JUGANDO gen95 versus gen22\n",
      "100.0 % Training completado ## RESULTADO ##  N= 20000 - j1: 7897, j2: 12103, Empates: 0, WINRATIO p1:39.48 ##\n",
      "\n",
      "\n",
      "JUGANDO gen22 versus gen95\n",
      "100.0 % Training completado ## RESULTADO ##  N= 20000 - j1: 8596, j2: 11404, Empates: 0, WINRATIO p1:42.98 ##\n"
     ]
    }
   ],
   "source": [
    "print(\"\")\n",
    "ValueNetworkEngine.ValueTrainingTest(22, 21, 20000, False) # quiero menos de 41!\n",
    "print(\"\")\n",
    "ValueNetworkEngine.ValueTrainingTest(21, 22, 20000, False) # quiero un 42 o mas!\n",
    "\n",
    "print(\"\")\n",
    "ValueNetworkEngine.ValueTrainingTest(95, 22, 20000, False) # quiero menos de 41!\n",
    "print(\"\")\n",
    "ValueNetworkEngine.ValueTrainingTest(22, 95, 20000, False) # quiero un 42 o mas!"
   ]
  },
  {
   "cell_type": "code",
   "execution_count": null,
   "metadata": {},
   "outputs": [],
   "source": [
    "print(\"\")\n",
    "ValueNetworkEngine.ValueTrainingTest(70, 13, 20000, False) # quiero menos de 41!\n",
    "print(\"\")\n",
    "ValueNetworkEngine.ValueTrainingTest(13, 70, 20000, False) # quiero un 42 o mas!"
   ]
  },
  {
   "cell_type": "code",
   "execution_count": 16,
   "metadata": {
    "scrolled": true
   },
   "outputs": [
    {
     "name": "stdout",
     "output_type": "stream",
     "text": [
      "[name: \"/device:CPU:0\"\n",
      "device_type: \"CPU\"\n",
      "memory_limit: 268435456\n",
      "locality {\n",
      "}\n",
      "incarnation: 12931043626812551730\n",
      "]\n"
     ]
    }
   ],
   "source": [
    "# CODE TO CHECK GPU\n",
    "from tensorflow.python.client import device_lib\n",
    "print(device_lib.list_local_devices())"
   ]
  },
  {
   "cell_type": "code",
   "execution_count": null,
   "metadata": {},
   "outputs": [],
   "source": [
    "ValueNetworkEngine.Load_and_Test(\"value_pickles\\gen14_\")"
   ]
  },
  {
   "cell_type": "code",
   "execution_count": null,
   "metadata": {},
   "outputs": [
    {
     "name": "stdout",
     "output_type": "stream",
     "text": [
      "   #debug@ COMIENZO!   ## ValueNetworkTrainer()   ## T=61.2597s\n",
      "\n",
      "\n",
      "##########################\n",
      "##     GENERACION 23     ##\n",
      "##########################\n",
      "\n",
      "  ##   Generate_and_Save   ##\n",
      "\n",
      "1. Generando Partidas de entrenamiento\n",
      "Generando Partidas.. ( batch_size=100000 )\n",
      "\n"
     ]
    }
   ],
   "source": [
    "#ValueNetworkEngine.ValueNetworkTrainer(22, 1, 100000, True)"
   ]
  },
  {
   "cell_type": "code",
   "execution_count": null,
   "metadata": {},
   "outputs": [],
   "source": []
  }
 ],
 "metadata": {
  "kernelspec": {
   "display_name": "Python 3",
   "language": "python",
   "name": "python3"
  },
  "language_info": {
   "codemirror_mode": {
    "name": "ipython",
    "version": 3
   },
   "file_extension": ".py",
   "mimetype": "text/x-python",
   "name": "python",
   "nbconvert_exporter": "python",
   "pygments_lexer": "ipython3",
   "version": "3.7.3"
  }
 },
 "nbformat": 4,
 "nbformat_minor": 2
}
