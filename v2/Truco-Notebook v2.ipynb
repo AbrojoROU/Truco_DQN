{
 "cells": [
  {
   "cell_type": "code",
   "execution_count": 1,
   "metadata": {},
   "outputs": [
    {
     "name": "stderr",
     "output_type": "stream",
     "text": [
      "Using TensorFlow backend.\n"
     ]
    }
   ],
   "source": [
    "from Truco_Pruebas_v3 import *\n",
    "from Truco_Core_v3 import *\n",
    "from Truco_Value_Network_v3 import ValueNetworkEngine"
   ]
  },
  {
   "cell_type": "code",
   "execution_count": 6,
   "metadata": {},
   "outputs": [
    {
     "name": "stdout",
     "output_type": "stream",
     "text": [
      "\n",
      "  Cartas Jugador 1: [11-Oro, 11-Copa, 10-Oro]\n",
      "  Cartas Jugador 2: [1-Copa, 12-Copa, 5-Espada]\n",
      "\n",
      "###  TE TOCA HUMANO, p1  ###\n",
      "   El estado del Truco es: NADA_DICHO\n",
      "   Se jugaron las siguientes cartas: []\n",
      "   Cartas en la mano: [11-Oro, 11-Copa, 10-Oro]\n",
      "\n",
      "Debes elegir accion! acciones posibles: \n",
      "   5. GRITAR\n",
      "   1. JUGAR_C1\n",
      "   2. JUGAR_C2\n",
      "   3. JUGAR_C3\n",
      "\n",
      "   Ingrese accion: 3\n",
      ">>>  P1 - ejecutando: Accion.JUGAR_C3\n",
      "\n",
      " p2 me toca!\n",
      "   #debug@      p2 pensando en: GRITAR,  valor:[[-0.87552613]]   ## Elegir_Accion()   ## T=21684.1s\n",
      "   #debug@      p2 pensando en: JUGAR_C1,  valor:[[-0.51627445]]   ## Elegir_Accion()   ## T=21684.1s\n",
      "   #debug@      p2 pensando en: JUGAR_C2,  valor:[[0.8401175]]   ## Elegir_Accion()   ## T=21684.1s\n",
      "   #debug@      p2 pensando en: JUGAR_C3,  valor:[[-1.1776608]]   ## Elegir_Accion()   ## T=21684.2s\n",
      "   #debug@      p2> accion elegida: JUGAR_C2,  valor:[[0.8401175]]   ## Elegir_Accion()   ## T=21684.2s\n",
      ">>>  P2 - ejecutando: Accion.JUGAR_C2\n",
      "\n",
      " p2 me toca!\n",
      "   #debug@      p2 pensando en: GRITAR,  valor:[[1.0639665]]   ## Elegir_Accion()   ## T=21684.2s\n",
      "   #debug@      p2 pensando en: JUGAR_C1,  valor:[[0.3478166]]   ## Elegir_Accion()   ## T=21684.2s\n",
      "   #debug@      p2 pensando en: JUGAR_C3,  valor:[[0.4339589]]   ## Elegir_Accion()   ## T=21684.2s\n",
      "   #debug@      p2> accion elegida: GRITAR,  valor:[[1.0639665]]   ## Elegir_Accion()   ## T=21684.2s\n",
      ">>>  P2 - ejecutando: Accion.GRITAR\n",
      "\n",
      "###  TE TOCA HUMANO, p1  ###\n",
      "   El estado del Truco es: TRUCO_DICHO\n",
      "   Se jugaron las siguientes cartas: [10-Oro, 12-Copa]\n",
      "   Cartas en la mano: [11-Oro, 11-Copa]\n",
      "\n",
      "Debes elegir accion! acciones posibles: \n",
      "   6. FOLD\n",
      "   4. QUIERO_GRITO\n",
      "\n",
      "   Ingrese accion: 4\n",
      ">>>  P1 - ejecutando: Accion.QUIERO_GRITO\n",
      "\n",
      " p2 me toca!\n",
      "   #debug@      p2 pensando en: JUGAR_C1,  valor:[[1.2797264]]   ## Elegir_Accion()   ## T=21689.2s\n",
      "   #debug@      p2 pensando en: JUGAR_C3,  valor:[[0.3065868]]   ## Elegir_Accion()   ## T=21689.2s\n",
      "   #debug@      p2> accion elegida: JUGAR_C1,  valor:[[1.2797264]]   ## Elegir_Accion()   ## T=21689.2s\n",
      ">>>  P2 - ejecutando: Accion.JUGAR_C1\n",
      "\n",
      "###  TE TOCA HUMANO, p1  ###\n",
      "   El estado del Truco es: TRUCO_ACEPTADO\n",
      "   Se jugaron las siguientes cartas: [10-Oro, 12-Copa, 1-Copa]\n",
      "   Cartas en la mano: [11-Oro, 11-Copa]\n",
      "\n",
      "Debes elegir accion! acciones posibles: \n",
      "   5. GRITAR\n",
      "   1. JUGAR_C1\n",
      "   2. JUGAR_C2\n",
      "\n",
      "   Ingrese accion: 5\n",
      ">>>  P1 - ejecutando: Accion.GRITAR\n",
      "\n",
      " p2 me toca!\n",
      "   #debug@      p2 pensando en: FOLD,  valor:[[-1.7766488]]   ## Elegir_Accion()   ## T=21966.0s\n",
      "   #debug@      p2 pensando en: QUIERO_GRITO,  valor:[[2.4961774]]   ## Elegir_Accion()   ## T=21966.0s\n",
      "   #debug@      p2> accion elegida: QUIERO_GRITO,  valor:[[2.4961774]]   ## Elegir_Accion()   ## T=21966.0s\n",
      ">>>  P2 - ejecutando: Accion.QUIERO_GRITO\n",
      "\n",
      "###  TE TOCA HUMANO, p1  ###\n",
      "   El estado del Truco es: RETRUCO_ACEPTADO\n",
      "   Se jugaron las siguientes cartas: [10-Oro, 12-Copa, 1-Copa]\n",
      "   Cartas en la mano: [11-Oro, 11-Copa]\n",
      "\n",
      "Debes elegir accion! acciones posibles: \n",
      "   1. JUGAR_C1\n",
      "   2. JUGAR_C2\n",
      "\n",
      "   Ingrese accion: 2\n",
      ">>>  P1 - ejecutando: Accion.JUGAR_C2\n",
      "\n",
      " p2 me toca!\n",
      "   #debug@      p2 pensando en: GRITAR,  valor:[[2.961204]]   ## Elegir_Accion()   ## T=21975.8s\n",
      "   #debug@      p2 pensando en: JUGAR_C3,  valor:[[2.8336205]]   ## Elegir_Accion()   ## T=21975.8s\n",
      "   #debug@      p2> accion elegida: GRITAR,  valor:[[2.961204]]   ## Elegir_Accion()   ## T=21975.8s\n",
      ">>>  P2 - ejecutando: Accion.GRITAR\n",
      "\n",
      "###  TE TOCA HUMANO, p1  ###\n",
      "   El estado del Truco es: VALE4_DICHO\n",
      "   Se jugaron las siguientes cartas: [10-Oro, 12-Copa, 1-Copa, 11-Copa]\n",
      "   Cartas en la mano: [11-Oro]\n",
      "\n",
      "Debes elegir accion! acciones posibles: \n",
      "   6. FOLD\n",
      "   4. QUIERO_GRITO\n",
      "\n",
      "   Ingrese accion: 6\n",
      ">>>  P1 - ejecutando: Accion.FOLD\n",
      " GANE! (jugador 2)\n",
      "\n",
      "Termino la partida, cartas jugadas finales: [10-Oro, 12-Copa, 1-Copa, 11-Copa]\n",
      "Ganó: p2! ,  con puntaje:(0, 3)\n",
      "    >las cartas de p1 eran: [11-Oro, 11-Copa, 10-Oro]\n",
      "    >las cartas de p2 eran: [1-Copa, 12-Copa, 5-Espada]\n"
     ]
    }
   ],
   "source": [
    "### JUGAR HUMANO (p1)  VS   DVN (p2)\n",
    "Motor.Play_Human_game(Humano(Reglas.JUGADOR1),\n",
    "                            AgenteDVN(Reglas.JUGADOR2, keras.models.load_model(\"value_pickles\\gen20_p2_DVN.h5\")),\n",
    "                            True)"
   ]
  },
  {
   "cell_type": "code",
   "execution_count": 3,
   "metadata": {},
   "outputs": [
    {
     "name": "stdout",
     "output_type": "stream",
     "text": [
      "\n",
      "  Cartas Jugador 1: [1-Basto, 11-Espada, 6-Oro]\n",
      "  Cartas Jugador 2: [10-Basto, 6-Basto, 5-Copa]\n",
      "\n",
      " p1 me toca!\n",
      "   #debug@      p1 pensando en: GRITAR,  valor:[[-1.1332395]]   ## Elegir_Accion()   ## T=264.029s\n",
      "   #debug@      p1 pensando en: JUGAR_C1,  valor:[[-0.6592715]]   ## Elegir_Accion()   ## T=264.041s\n",
      "   #debug@      p1 pensando en: JUGAR_C2,  valor:[[-0.31893525]]   ## Elegir_Accion()   ## T=264.053s\n",
      "   #debug@      p1 pensando en: JUGAR_C3,  valor:[[-0.2653872]]   ## Elegir_Accion()   ## T=264.064s\n",
      "   #debug@      p1> accion elegida: JUGAR_C3,  valor:[[-0.2653872]]   ## Elegir_Accion()   ## T=264.075s\n",
      ">>>  P1 - ejecutando: Accion.JUGAR_C3\n",
      "\n",
      "###  TE TOCA HUMANO, p2  ###\n",
      "   El estado del Truco es: NADA_DICHO\n",
      "   Se jugaron las siguientes cartas: [6-Oro]\n",
      "   Cartas en la mano: [10-Basto, 6-Basto, 5-Copa]\n",
      "\n",
      "Debes elegir accion! acciones posibles: \n",
      "   5. GRITAR\n",
      "   1. JUGAR_C1\n",
      "   2. JUGAR_C2\n",
      "   3. JUGAR_C3\n",
      "\n",
      "   Ingrese accion: 1\n",
      ">>>  P2 - ejecutando: Accion.JUGAR_C1\n",
      "\n",
      "###  TE TOCA HUMANO, p2  ###\n",
      "   El estado del Truco es: NADA_DICHO\n",
      "   Se jugaron las siguientes cartas: [6-Oro, 10-Basto]\n",
      "   Cartas en la mano: [6-Basto, 5-Copa]\n",
      "\n",
      "Debes elegir accion! acciones posibles: \n",
      "   5. GRITAR\n",
      "   2. JUGAR_C2\n",
      "   3. JUGAR_C3\n",
      "\n",
      "   Ingrese accion: 5\n",
      ">>>  P2 - ejecutando: Accion.GRITAR\n",
      "\n",
      " p1 me toca!\n",
      "   #debug@      p1 pensando en: FOLD,  valor:[[-1.1121091]]   ## Elegir_Accion()   ## T=535.228s\n",
      "   #debug@      p1 pensando en: QUIERO_GRITO,  valor:[[-1.313812]]   ## Elegir_Accion()   ## T=535.241s\n",
      "   #debug@      p1> accion elegida: FOLD,  valor:[[-1.1121091]]   ## Elegir_Accion()   ## T=535.254s\n",
      ">>>  P1 - ejecutando: Accion.FOLD\n",
      " GANE! (jugador 2)\n",
      "\n",
      "Termino la partida, cartas jugadas finales: [6-Oro, 10-Basto]\n",
      "Ganó: p2! ,  con puntaje:(0, 1)\n",
      "    >las cartas de p1 eran: [1-Basto, 11-Espada, 6-Oro]\n",
      "    >las cartas de p2 eran: [10-Basto, 6-Basto, 5-Copa]\n"
     ]
    }
   ],
   "source": [
    "### JUGAR DVN (p1)  VS   HUMANO (p2)\n",
    "Motor.Play_Human_game(AgenteDVN(Reglas.JUGADOR1,keras.models.load_model(\"value_pickles\\gen14_p2_DVN.h5\")),\n",
    "                            Humano(Reglas.JUGADOR2),\n",
    "                            True)"
   ]
  },
  {
   "cell_type": "code",
   "execution_count": 14,
   "metadata": {},
   "outputs": [
    {
     "name": "stdout",
     "output_type": "stream",
     "text": [
      "_________________________________________________________________\n",
      "Layer (type)                 Output Shape              Param #   \n",
      "=================================================================\n",
      "dense_23 (Dense)             (None, 50)                2550      \n",
      "_________________________________________________________________\n",
      "dense_24 (Dense)             (None, 80)                4080      \n",
      "_________________________________________________________________\n",
      "dense_25 (Dense)             (None, 80)                6480      \n",
      "_________________________________________________________________\n",
      "dense_26 (Dense)             (None, 80)                6480      \n",
      "_________________________________________________________________\n",
      "dense_27 (Dense)             (None, 80)                6480      \n",
      "_________________________________________________________________\n",
      "dense_28 (Dense)             (None, 80)                6480      \n",
      "_________________________________________________________________\n",
      "dense_29 (Dense)             (None, 80)                6480      \n",
      "_________________________________________________________________\n",
      "dense_30 (Dense)             (None, 80)                6480      \n",
      "_________________________________________________________________\n",
      "dense_31 (Dense)             (None, 80)                6480      \n",
      "_________________________________________________________________\n",
      "dense_32 (Dense)             (None, 50)                4050      \n",
      "_________________________________________________________________\n",
      "dense_33 (Dense)             (None, 1)                 51        \n",
      "=================================================================\n",
      "Total params: 56,091\n",
      "Trainable params: 56,091\n",
      "Non-trainable params: 0\n",
      "_________________________________________________________________\n",
      "\n",
      "\n",
      "\n",
      "_________________________________________________________________\n",
      "Layer (type)                 Output Shape              Param #   \n",
      "=================================================================\n",
      "dense_91 (Dense)             (None, 50)                2550      \n",
      "_________________________________________________________________\n",
      "dense_92 (Dense)             (None, 50)                2550      \n",
      "_________________________________________________________________\n",
      "dense_93 (Dense)             (None, 50)                2550      \n",
      "_________________________________________________________________\n",
      "dense_94 (Dense)             (None, 50)                2550      \n",
      "_________________________________________________________________\n",
      "dense_95 (Dense)             (None, 50)                2550      \n",
      "_________________________________________________________________\n",
      "dense_96 (Dense)             (None, 50)                2550      \n",
      "_________________________________________________________________\n",
      "dense_97 (Dense)             (None, 50)                2550      \n",
      "_________________________________________________________________\n",
      "dense_98 (Dense)             (None, 50)                2550      \n",
      "_________________________________________________________________\n",
      "dense_99 (Dense)             (None, 1)                 51        \n",
      "=================================================================\n",
      "Total params: 20,451\n",
      "Trainable params: 20,451\n",
      "Non-trainable params: 0\n",
      "_________________________________________________________________\n"
     ]
    }
   ],
   "source": [
    "gen_p1 = \"value_pickles\\gen95_\"\n",
    "p1_DVN = keras.models.load_model(gen_p1 + \"p1_DVN.h5\")\n",
    "p1_DVN.summary()\n",
    "\n",
    "print(\"\")\n",
    "print(\"\")\n",
    "print(\"\")\n",
    "gen_p1 = \"value_pickles\\gen21_\"\n",
    "p1_DVN = keras.models.load_model(gen_p1 + \"p1_DVN.h5\")\n",
    "p1_DVN.summary()"
   ]
  },
  {
   "cell_type": "code",
   "execution_count": 5,
   "metadata": {},
   "outputs": [
    {
     "name": "stdout",
     "output_type": "stream",
     "text": [
      "\n",
      "\n",
      "JUGANDO gen70 versus gen20\n",
      "100.0 % Training completado ## RESULTADO ##  N= 20000 - j1: 8328, j2: 11672, Empates: 0, WINRATIO p1:41.64 ##\n",
      "\n",
      "\n",
      "JUGANDO gen20 versus gen70\n",
      "100.0 % Training completado ## RESULTADO ##  N= 20000 - j1: 8975, j2: 11025, Empates: 0, WINRATIO p1:44.87 ##\n",
      "\n",
      "\n",
      "JUGANDO gen19 versus gen20\n",
      "100.0 % Training completado ## RESULTADO ##  N= 20000 - j1: 7309, j2: 12691, Empates: 0, WINRATIO p1:36.54 ##\n",
      "\n",
      "\n",
      "JUGANDO gen20 versus gen29\n"
     ]
    },
    {
     "ename": "OSError",
     "evalue": "Unable to open file (unable to open file: name = 'value_pickles\\gen29_p2_DVN.h5', errno = 2, error message = 'No such file or directory', flags = 0, o_flags = 0)",
     "output_type": "error",
     "traceback": [
      "\u001b[1;31m---------------------------------------------------------------------------\u001b[0m",
      "\u001b[1;31mOSError\u001b[0m                                   Traceback (most recent call last)",
      "\u001b[1;32m<ipython-input-5-da7cadd177a1>\u001b[0m in \u001b[0;36m<module>\u001b[1;34m\u001b[0m\n\u001b[0;32m      7\u001b[0m \u001b[0mValueNetworkEngine\u001b[0m\u001b[1;33m.\u001b[0m\u001b[0mValueTrainingTest\u001b[0m\u001b[1;33m(\u001b[0m\u001b[1;36m19\u001b[0m\u001b[1;33m,\u001b[0m \u001b[1;36m20\u001b[0m\u001b[1;33m,\u001b[0m \u001b[1;36m20000\u001b[0m\u001b[1;33m,\u001b[0m \u001b[1;32mFalse\u001b[0m\u001b[1;33m)\u001b[0m \u001b[1;31m# quiero menos de 41!\u001b[0m\u001b[1;33m\u001b[0m\u001b[1;33m\u001b[0m\u001b[0m\n\u001b[0;32m      8\u001b[0m \u001b[0mprint\u001b[0m\u001b[1;33m(\u001b[0m\u001b[1;34m\"\"\u001b[0m\u001b[1;33m)\u001b[0m\u001b[1;33m\u001b[0m\u001b[1;33m\u001b[0m\u001b[0m\n\u001b[1;32m----> 9\u001b[1;33m \u001b[0mValueNetworkEngine\u001b[0m\u001b[1;33m.\u001b[0m\u001b[0mValueTrainingTest\u001b[0m\u001b[1;33m(\u001b[0m\u001b[1;36m20\u001b[0m\u001b[1;33m,\u001b[0m \u001b[1;36m29\u001b[0m\u001b[1;33m,\u001b[0m \u001b[1;36m20000\u001b[0m\u001b[1;33m,\u001b[0m \u001b[1;32mFalse\u001b[0m\u001b[1;33m)\u001b[0m \u001b[1;31m# quiero un 42 o mas!\u001b[0m\u001b[1;33m\u001b[0m\u001b[1;33m\u001b[0m\u001b[0m\n\u001b[0m",
      "\u001b[1;32mD:\\Onedrive\\Material\\AI\\Curso Digital House\\XX - Proyecto Truco\\pycharm2\\Truco_Value_Network_v3.py\u001b[0m in \u001b[0;36mValueTrainingTest\u001b[1;34m(gen_p1, gen_p2, N, debug)\u001b[0m\n\u001b[0;32m    349\u001b[0m         \u001b[1;32mif\u001b[0m \u001b[0mgen_p2\u001b[0m \u001b[1;33m>\u001b[0m \u001b[1;36m0\u001b[0m\u001b[1;33m:\u001b[0m\u001b[1;33m\u001b[0m\u001b[1;33m\u001b[0m\u001b[0m\n\u001b[0;32m    350\u001b[0m             \u001b[0mgen_p2\u001b[0m \u001b[1;33m=\u001b[0m \u001b[1;34m\"value_pickles\\gen\"\u001b[0m \u001b[1;33m+\u001b[0m \u001b[0mstr\u001b[0m\u001b[1;33m(\u001b[0m\u001b[0mgen_p2\u001b[0m\u001b[1;33m)\u001b[0m \u001b[1;33m+\u001b[0m \u001b[1;34m\"_\"\u001b[0m\u001b[1;33m\u001b[0m\u001b[1;33m\u001b[0m\u001b[0m\n\u001b[1;32m--> 351\u001b[1;33m             \u001b[0mp2_DVN\u001b[0m \u001b[1;33m=\u001b[0m \u001b[0mkeras\u001b[0m\u001b[1;33m.\u001b[0m\u001b[0mmodels\u001b[0m\u001b[1;33m.\u001b[0m\u001b[0mload_model\u001b[0m\u001b[1;33m(\u001b[0m\u001b[0mgen_p2\u001b[0m \u001b[1;33m+\u001b[0m \u001b[1;34m\"p2_DVN.h5\"\u001b[0m\u001b[1;33m)\u001b[0m\u001b[1;33m\u001b[0m\u001b[1;33m\u001b[0m\u001b[0m\n\u001b[0m\u001b[0;32m    352\u001b[0m             \u001b[0mvalue_p2\u001b[0m \u001b[1;33m=\u001b[0m \u001b[0mAgenteDVN\u001b[0m\u001b[1;33m(\u001b[0m\u001b[0mReglas\u001b[0m\u001b[1;33m.\u001b[0m\u001b[0mJUGADOR2\u001b[0m\u001b[1;33m,\u001b[0m \u001b[0mp2_DVN\u001b[0m\u001b[1;33m)\u001b[0m\u001b[1;33m\u001b[0m\u001b[1;33m\u001b[0m\u001b[0m\n\u001b[0;32m    353\u001b[0m             \u001b[0mvalue_p2\u001b[0m\u001b[1;33m.\u001b[0m\u001b[0meps\u001b[0m \u001b[1;33m=\u001b[0m \u001b[1;36m0\u001b[0m\u001b[1;33m\u001b[0m\u001b[1;33m\u001b[0m\u001b[0m\n",
      "\u001b[1;32m~\\Anaconda3\\envs\\udemy_RL_1\\lib\\site-packages\\keras\\engine\\saving.py\u001b[0m in \u001b[0;36mload_model\u001b[1;34m(filepath, custom_objects, compile)\u001b[0m\n\u001b[0;32m    415\u001b[0m     \u001b[0mmodel\u001b[0m \u001b[1;33m=\u001b[0m \u001b[1;32mNone\u001b[0m\u001b[1;33m\u001b[0m\u001b[1;33m\u001b[0m\u001b[0m\n\u001b[0;32m    416\u001b[0m     \u001b[0mopened_new_file\u001b[0m \u001b[1;33m=\u001b[0m \u001b[1;32mnot\u001b[0m \u001b[0misinstance\u001b[0m\u001b[1;33m(\u001b[0m\u001b[0mfilepath\u001b[0m\u001b[1;33m,\u001b[0m \u001b[0mh5py\u001b[0m\u001b[1;33m.\u001b[0m\u001b[0mGroup\u001b[0m\u001b[1;33m)\u001b[0m\u001b[1;33m\u001b[0m\u001b[1;33m\u001b[0m\u001b[0m\n\u001b[1;32m--> 417\u001b[1;33m     \u001b[0mf\u001b[0m \u001b[1;33m=\u001b[0m \u001b[0mh5dict\u001b[0m\u001b[1;33m(\u001b[0m\u001b[0mfilepath\u001b[0m\u001b[1;33m,\u001b[0m \u001b[1;34m'r'\u001b[0m\u001b[1;33m)\u001b[0m\u001b[1;33m\u001b[0m\u001b[1;33m\u001b[0m\u001b[0m\n\u001b[0m\u001b[0;32m    418\u001b[0m     \u001b[1;32mtry\u001b[0m\u001b[1;33m:\u001b[0m\u001b[1;33m\u001b[0m\u001b[1;33m\u001b[0m\u001b[0m\n\u001b[0;32m    419\u001b[0m         \u001b[0mmodel\u001b[0m \u001b[1;33m=\u001b[0m \u001b[0m_deserialize_model\u001b[0m\u001b[1;33m(\u001b[0m\u001b[0mf\u001b[0m\u001b[1;33m,\u001b[0m \u001b[0mcustom_objects\u001b[0m\u001b[1;33m,\u001b[0m \u001b[0mcompile\u001b[0m\u001b[1;33m)\u001b[0m\u001b[1;33m\u001b[0m\u001b[1;33m\u001b[0m\u001b[0m\n",
      "\u001b[1;32m~\\Anaconda3\\envs\\udemy_RL_1\\lib\\site-packages\\keras\\utils\\io_utils.py\u001b[0m in \u001b[0;36m__init__\u001b[1;34m(self, path, mode)\u001b[0m\n\u001b[0;32m    184\u001b[0m             \u001b[0mself\u001b[0m\u001b[1;33m.\u001b[0m\u001b[0m_is_file\u001b[0m \u001b[1;33m=\u001b[0m \u001b[1;32mFalse\u001b[0m\u001b[1;33m\u001b[0m\u001b[1;33m\u001b[0m\u001b[0m\n\u001b[0;32m    185\u001b[0m         \u001b[1;32melif\u001b[0m \u001b[0misinstance\u001b[0m\u001b[1;33m(\u001b[0m\u001b[0mpath\u001b[0m\u001b[1;33m,\u001b[0m \u001b[0mstr\u001b[0m\u001b[1;33m)\u001b[0m\u001b[1;33m:\u001b[0m\u001b[1;33m\u001b[0m\u001b[1;33m\u001b[0m\u001b[0m\n\u001b[1;32m--> 186\u001b[1;33m             \u001b[0mself\u001b[0m\u001b[1;33m.\u001b[0m\u001b[0mdata\u001b[0m \u001b[1;33m=\u001b[0m \u001b[0mh5py\u001b[0m\u001b[1;33m.\u001b[0m\u001b[0mFile\u001b[0m\u001b[1;33m(\u001b[0m\u001b[0mpath\u001b[0m\u001b[1;33m,\u001b[0m \u001b[0mmode\u001b[0m\u001b[1;33m=\u001b[0m\u001b[0mmode\u001b[0m\u001b[1;33m)\u001b[0m\u001b[1;33m\u001b[0m\u001b[1;33m\u001b[0m\u001b[0m\n\u001b[0m\u001b[0;32m    187\u001b[0m             \u001b[0mself\u001b[0m\u001b[1;33m.\u001b[0m\u001b[0m_is_file\u001b[0m \u001b[1;33m=\u001b[0m \u001b[1;32mTrue\u001b[0m\u001b[1;33m\u001b[0m\u001b[1;33m\u001b[0m\u001b[0m\n\u001b[0;32m    188\u001b[0m         \u001b[1;32melif\u001b[0m \u001b[0misinstance\u001b[0m\u001b[1;33m(\u001b[0m\u001b[0mpath\u001b[0m\u001b[1;33m,\u001b[0m \u001b[0mdict\u001b[0m\u001b[1;33m)\u001b[0m\u001b[1;33m:\u001b[0m\u001b[1;33m\u001b[0m\u001b[1;33m\u001b[0m\u001b[0m\n",
      "\u001b[1;32m~\\Anaconda3\\envs\\udemy_RL_1\\lib\\site-packages\\h5py\\_hl\\files.py\u001b[0m in \u001b[0;36m__init__\u001b[1;34m(self, name, mode, driver, libver, userblock_size, swmr, rdcc_nslots, rdcc_nbytes, rdcc_w0, track_order, **kwds)\u001b[0m\n\u001b[0;32m    392\u001b[0m                 fid = make_fid(name, mode, userblock_size,\n\u001b[0;32m    393\u001b[0m                                \u001b[0mfapl\u001b[0m\u001b[1;33m,\u001b[0m \u001b[0mfcpl\u001b[0m\u001b[1;33m=\u001b[0m\u001b[0mmake_fcpl\u001b[0m\u001b[1;33m(\u001b[0m\u001b[0mtrack_order\u001b[0m\u001b[1;33m=\u001b[0m\u001b[0mtrack_order\u001b[0m\u001b[1;33m)\u001b[0m\u001b[1;33m,\u001b[0m\u001b[1;33m\u001b[0m\u001b[1;33m\u001b[0m\u001b[0m\n\u001b[1;32m--> 394\u001b[1;33m                                swmr=swmr)\n\u001b[0m\u001b[0;32m    395\u001b[0m \u001b[1;33m\u001b[0m\u001b[0m\n\u001b[0;32m    396\u001b[0m             \u001b[1;32mif\u001b[0m \u001b[0mswmr_support\u001b[0m\u001b[1;33m:\u001b[0m\u001b[1;33m\u001b[0m\u001b[1;33m\u001b[0m\u001b[0m\n",
      "\u001b[1;32m~\\Anaconda3\\envs\\udemy_RL_1\\lib\\site-packages\\h5py\\_hl\\files.py\u001b[0m in \u001b[0;36mmake_fid\u001b[1;34m(name, mode, userblock_size, fapl, fcpl, swmr)\u001b[0m\n\u001b[0;32m    168\u001b[0m         \u001b[1;32mif\u001b[0m \u001b[0mswmr\u001b[0m \u001b[1;32mand\u001b[0m \u001b[0mswmr_support\u001b[0m\u001b[1;33m:\u001b[0m\u001b[1;33m\u001b[0m\u001b[1;33m\u001b[0m\u001b[0m\n\u001b[0;32m    169\u001b[0m             \u001b[0mflags\u001b[0m \u001b[1;33m|=\u001b[0m \u001b[0mh5f\u001b[0m\u001b[1;33m.\u001b[0m\u001b[0mACC_SWMR_READ\u001b[0m\u001b[1;33m\u001b[0m\u001b[1;33m\u001b[0m\u001b[0m\n\u001b[1;32m--> 170\u001b[1;33m         \u001b[0mfid\u001b[0m \u001b[1;33m=\u001b[0m \u001b[0mh5f\u001b[0m\u001b[1;33m.\u001b[0m\u001b[0mopen\u001b[0m\u001b[1;33m(\u001b[0m\u001b[0mname\u001b[0m\u001b[1;33m,\u001b[0m \u001b[0mflags\u001b[0m\u001b[1;33m,\u001b[0m \u001b[0mfapl\u001b[0m\u001b[1;33m=\u001b[0m\u001b[0mfapl\u001b[0m\u001b[1;33m)\u001b[0m\u001b[1;33m\u001b[0m\u001b[1;33m\u001b[0m\u001b[0m\n\u001b[0m\u001b[0;32m    171\u001b[0m     \u001b[1;32melif\u001b[0m \u001b[0mmode\u001b[0m \u001b[1;33m==\u001b[0m \u001b[1;34m'r+'\u001b[0m\u001b[1;33m:\u001b[0m\u001b[1;33m\u001b[0m\u001b[1;33m\u001b[0m\u001b[0m\n\u001b[0;32m    172\u001b[0m         \u001b[0mfid\u001b[0m \u001b[1;33m=\u001b[0m \u001b[0mh5f\u001b[0m\u001b[1;33m.\u001b[0m\u001b[0mopen\u001b[0m\u001b[1;33m(\u001b[0m\u001b[0mname\u001b[0m\u001b[1;33m,\u001b[0m \u001b[0mh5f\u001b[0m\u001b[1;33m.\u001b[0m\u001b[0mACC_RDWR\u001b[0m\u001b[1;33m,\u001b[0m \u001b[0mfapl\u001b[0m\u001b[1;33m=\u001b[0m\u001b[0mfapl\u001b[0m\u001b[1;33m)\u001b[0m\u001b[1;33m\u001b[0m\u001b[1;33m\u001b[0m\u001b[0m\n",
      "\u001b[1;32mh5py\\_objects.pyx\u001b[0m in \u001b[0;36mh5py._objects.with_phil.wrapper\u001b[1;34m()\u001b[0m\n",
      "\u001b[1;32mh5py\\_objects.pyx\u001b[0m in \u001b[0;36mh5py._objects.with_phil.wrapper\u001b[1;34m()\u001b[0m\n",
      "\u001b[1;32mh5py\\h5f.pyx\u001b[0m in \u001b[0;36mh5py.h5f.open\u001b[1;34m()\u001b[0m\n",
      "\u001b[1;31mOSError\u001b[0m: Unable to open file (unable to open file: name = 'value_pickles\\gen29_p2_DVN.h5', errno = 2, error message = 'No such file or directory', flags = 0, o_flags = 0)"
     ]
    }
   ],
   "source": [
    "print(\"\")\n",
    "ValueNetworkEngine.ValueTrainingTest(70, 20, 20000, False) # quiero menos de 41!\n",
    "print(\"\")\n",
    "ValueNetworkEngine.ValueTrainingTest(20, 70, 20000, False) # quiero un 42 o mas!\n",
    "\n",
    "print(\"\")\n",
    "ValueNetworkEngine.ValueTrainingTest(19, 20, 20000, False) # quiero menos de 41!\n",
    "print(\"\")\n",
    "ValueNetworkEngine.ValueTrainingTest(20, 19, 20000, False) # quiero un 42 o mas!"
   ]
  },
  {
   "cell_type": "code",
   "execution_count": 5,
   "metadata": {},
   "outputs": [
    {
     "name": "stdout",
     "output_type": "stream",
     "text": [
      "\n",
      "\n",
      "JUGANDO gen70 versus gen13\n",
      "100.0 % Training completado ## RESULTADO ##  N= 20000 - j1: 8208, j2: 11792, Empates: 0, WINRATIO p1:41.04 ##\n",
      "\n",
      "\n",
      "JUGANDO gen13 versus gen70\n",
      "100.0 % Training completado ## RESULTADO ##  N= 20000 - j1: 8787, j2: 11213, Empates: 0, WINRATIO p1:43.93 ##\n"
     ]
    }
   ],
   "source": [
    "print(\"\")\n",
    "ValueNetworkEngine.ValueTrainingTest(70, 13, 20000, False) # quiero menos de 41!\n",
    "print(\"\")\n",
    "ValueNetworkEngine.ValueTrainingTest(13, 70, 20000, False) # quiero un 42 o mas!"
   ]
  },
  {
   "cell_type": "code",
   "execution_count": null,
   "metadata": {
    "scrolled": true
   },
   "outputs": [],
   "source": [
    "# CODE TO CHECK GPU\n",
    "from tensorflow.python.client import device_lib\n",
    "print(device_lib.list_local_devices())"
   ]
  },
  {
   "cell_type": "code",
   "execution_count": 8,
   "metadata": {},
   "outputs": [
    {
     "name": "stdout",
     "output_type": "stream",
     "text": [
      "  ##   Load_and_Test   ##\n",
      "\n",
      "  ## Carga de partidas de Test desde Disco (pickles) con prefijo: value_pickles\\gen14_\n",
      "\n",
      "## Loading model from disk\n",
      "###########################\n",
      "##   Partida de Prueba   ##\n",
      "###########################\n",
      "\n",
      "1) p1 juega c1, acciones de p2 disponibles\n",
      "[<Accion.GRITAR: 5>, <Accion.JUGAR_C1: 1>, <Accion.JUGAR_C2: 2>, <Accion.JUGAR_C3: 3>]\n",
      "\n",
      "Le toca a p2\n",
      " cartas en mesa: [1-Espada]\n",
      " cartas totales: [1-Basto, 2-Oro, 4-Basto]\n",
      " cartas restates: [1-Basto, 2-Oro, 4-Basto]\n",
      "\n",
      "p2> accion posible: GRITAR,  valor:[[0.9151267]]\n",
      "p2> accion posible: JUGAR_C1,  valor:[[-0.13529661]]\n",
      "p2> accion posible: JUGAR_C2,  valor:[[-0.2466881]]\n",
      "p2> accion posible: JUGAR_C3,  valor:[[-0.05597634]]\n"
     ]
    }
   ],
   "source": [
    "ValueNetworkEngine.Load_and_Test(\"value_pickles\\gen14_\")"
   ]
  },
  {
   "cell_type": "code",
   "execution_count": null,
   "metadata": {},
   "outputs": [],
   "source": []
  }
 ],
 "metadata": {
  "kernelspec": {
   "display_name": "Python 3",
   "language": "python",
   "name": "python3"
  },
  "language_info": {
   "codemirror_mode": {
    "name": "ipython",
    "version": 3
   },
   "file_extension": ".py",
   "mimetype": "text/x-python",
   "name": "python",
   "nbconvert_exporter": "python",
   "pygments_lexer": "ipython3",
   "version": "3.7.3"
  }
 },
 "nbformat": 4,
 "nbformat_minor": 2
}
