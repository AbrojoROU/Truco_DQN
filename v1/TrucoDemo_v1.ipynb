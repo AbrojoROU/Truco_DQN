{
 "cells": [
  {
   "cell_type": "code",
   "execution_count": 1,
   "metadata": {},
   "outputs": [],
   "source": [
    "from Truco_Core_v1_r4 import *\n"
   ]
  },
  {
   "cell_type": "code",
   "execution_count": 2,
   "metadata": {},
   "outputs": [
    {
     "name": "stdout",
     "output_type": "stream",
     "text": [
      "\n",
      "===================================================\n",
      "## DEMO - Trained Agent and play - ##\n",
      "===================================================\n",
      "\n",
      "100.0 % inicializando Q de p1\n",
      "100.0 % inicializando Q de p2\n",
      "100.0 % Training completado Jugando p1(medium) vs p2(medium)\n",
      "## RESULTADO ##  N= 100 - j1: 42, j2: 58, Empates: 0, WINRATIO:42.0, S final: 264513\n"
     ]
    },
    {
     "data": {
      "text/plain": [
       "42.0"
      ]
     },
     "execution_count": 2,
     "metadata": {},
     "output_type": "execute_result"
    }
   ],
   "source": [
    "## ENTRENAMIENTO DE AGENTES\n",
    "## Correro esto si deseo jugar contra un agente entrenado en caliente (versus cargar uno preentrenado de disco)\n",
    "##\n",
    "\n",
    "print(\"\")\n",
    "print(\"===================================================\")\n",
    "print(\"## DEMO - Trained Agent and play - ##\")\n",
    "print(\"===================================================\")\n",
    "print(\"\")\n",
    "p1, p2 = train_agents(10000, False)  # train_agents(unN, DEBUG, p1=None, p2=None)\n",
    "print(\"Testeo los agentes haciendolos jugar entre si (p1 vs p2\")\n",
    "play_game(p1, p2, 100, False)\n",
    "\n",
    "\n"
   ]
  },
  {
   "cell_type": "code",
   "execution_count": null,
   "metadata": {},
   "outputs": [
    {
     "name": "stdout",
     "output_type": "stream",
     "text": [
      "Jugando p1(ai) vs h2 (Humano)\n",
      "\n",
      "###  HUMANO, p2  ###\n",
      "   Debes elegir accion! el estado actual es: 6  (ultima carta jugada: ID:6, 2-Basto, vt:40 )\n",
      "   Te quedan las sigueintes cartas: [ID:8, 1-Basto, vt:80, ID:7, 2-Copa, vt:40, ID:5, 11-Basto, vt:30]\n",
      "\n",
      "   Ingrese accion (posicion array 0,1,2): 0\n",
      "   Jugando carta: ID:8, 1-Basto, vt:80\n",
      "\n",
      "###  HUMANO, p2  ###\n",
      "   Debes elegir accion! el estado actual es: 68  (ultima carta jugada: ID:8, 1-Basto, vt:80 )\n",
      "   Te quedan las sigueintes cartas: [ID:7, 2-Copa, vt:40, ID:5, 11-Basto, vt:30]\n",
      "\n"
     ]
    }
   ],
   "source": [
    "h1 = Humano(Reglas.JUGADOR1)\n",
    "h2 = Humano(Reglas.JUGADOR2)\n",
    "\n",
    "print(\"Jugando p1(ai) vs h2 (Humano)\")\n",
    "play_game(p1, h2, 1, False)  #  Humano como p2\n",
    "print(\"\")\n",
    "print(\"Jugando h1 (Humano) vs p2(ai) \")\n",
    "play_game(h1, p2, 1,False)  #  Humano como p1"
   ]
  },
  {
   "cell_type": "code",
   "execution_count": null,
   "metadata": {},
   "outputs": [],
   "source": [
    "##\n",
    "## EJEMPLO DE COMO ENTRENAR Y GUARDAR/LEVANTAR EN DISCO\n",
    "##\n",
    "\n",
    "# 1) Ejemplo manual \n",
    "# p1_r = AgenteRandom(Reglas.JUGADOR1) # este no lo voy a guardar, es solo para entrenar al p2\n",
    "# p2_t = Agente(Reglas.JUGADOR2)\n",
    "# p1_r.InicializarQ()\n",
    "# p2_t.InicializarQ()\n",
    "# _, p2_t = train_agents(50000000, False, p1_r, p2_t) # ignoro p1\n",
    "# p2_t.Save_Q_to_Disk(\"p2_vsRandom.pickle\")\n",
    "\n",
    "# 2) Ejemplo automatico: ese metodo guarda con nombres p1.pickle y p2.pickle\n",
    "# sequential_Train_and_Save(20, 2000000, True, p1, p1)  # entreno y gardo en disco\n",
    "# p1.Load_Q_From_Disk(\"p1.pickle\") \n",
    "# p2.Load_Q_From_Disk(\"p2.pickle\")"
   ]
  }
 ],
 "metadata": {
  "kernelspec": {
   "display_name": "Python 3",
   "language": "python",
   "name": "python3"
  },
  "language_info": {
   "codemirror_mode": {
    "name": "ipython",
    "version": 3
   },
   "file_extension": ".py",
   "mimetype": "text/x-python",
   "name": "python",
   "nbconvert_exporter": "python",
   "pygments_lexer": "ipython3",
   "version": "3.7.3"
  }
 },
 "nbformat": 4,
 "nbformat_minor": 2
}
